{
 "cells": [
  {
   "cell_type": "markdown",
   "id": "2bd2f4ac",
   "metadata": {
    "id": "UFqy2m9Ap2ft",
    "papermill": {
     "duration": 0.01635,
     "end_time": "2025-08-06T05:04:33.644614",
     "exception": false,
     "start_time": "2025-08-06T05:04:33.628264",
     "status": "completed"
    },
    "tags": []
   },
   "source": [
    "To learn more about the dataset and the competition, visit the website: [Spaceship Titanic](https://www.kaggle.com/competitions/spaceship-titanic/)\n",
    "\n",
    "# About this notebook\n",
    "\n",
    "The **goal of this notebook is to show that a solution that is both simple and effective is possible when proper data preprocessing and exploration is carried out**. Accordingly, the main part of this notebook focuses on the exploratory data analysis, which involves data preprocessing, outlier and missing value handling and feature engineering. \n",
    "\n",
    "The models evaluated are **logistic regression and tree-based models** including random forests and gradient boosted decision trees.  "
   ]
  },
  {
   "cell_type": "markdown",
   "id": "5018a313",
   "metadata": {
    "id": "RwlLT3Aq7hyf",
    "papermill": {
     "duration": 0.01315,
     "end_time": "2025-08-06T05:04:33.672854",
     "exception": false,
     "start_time": "2025-08-06T05:04:33.659704",
     "status": "completed"
    },
    "tags": []
   },
   "source": [
    "# Exploratory data analysis"
   ]
  },
  {
   "cell_type": "markdown",
   "id": "12eea0cd",
   "metadata": {
    "id": "Knc9d1KPWDOf",
    "papermill": {
     "duration": 0.013226,
     "end_time": "2025-08-06T05:04:33.699651",
     "exception": false,
     "start_time": "2025-08-06T05:04:33.686425",
     "status": "completed"
    },
    "tags": []
   },
   "source": [
    "Import the necessary libraries and load the data."
   ]
  },
  {
   "cell_type": "code",
   "execution_count": 1,
   "id": "ab8ff691",
   "metadata": {
    "execution": {
     "iopub.execute_input": "2025-08-06T05:04:33.728179Z",
     "iopub.status.busy": "2025-08-06T05:04:33.727856Z",
     "iopub.status.idle": "2025-08-06T05:04:38.739907Z",
     "shell.execute_reply": "2025-08-06T05:04:38.739020Z"
    },
    "id": "fQ6W0FvNTQKm",
    "papermill": {
     "duration": 5.028419,
     "end_time": "2025-08-06T05:04:38.741573",
     "exception": false,
     "start_time": "2025-08-06T05:04:33.713154",
     "status": "completed"
    },
    "tags": []
   },
   "outputs": [
    {
     "data": {
      "text/html": [
       "<div>\n",
       "<style scoped>\n",
       "    .dataframe tbody tr th:only-of-type {\n",
       "        vertical-align: middle;\n",
       "    }\n",
       "\n",
       "    .dataframe tbody tr th {\n",
       "        vertical-align: top;\n",
       "    }\n",
       "\n",
       "    .dataframe thead th {\n",
       "        text-align: right;\n",
       "    }\n",
       "</style>\n",
       "<table border=\"1\" class=\"dataframe\">\n",
       "  <thead>\n",
       "    <tr style=\"text-align: right;\">\n",
       "      <th></th>\n",
       "      <th>PassengerId</th>\n",
       "      <th>HomePlanet</th>\n",
       "      <th>CryoSleep</th>\n",
       "      <th>Cabin</th>\n",
       "      <th>Destination</th>\n",
       "      <th>Age</th>\n",
       "      <th>VIP</th>\n",
       "      <th>RoomService</th>\n",
       "      <th>FoodCourt</th>\n",
       "      <th>ShoppingMall</th>\n",
       "      <th>Spa</th>\n",
       "      <th>VRDeck</th>\n",
       "      <th>Name</th>\n",
       "      <th>Transported</th>\n",
       "    </tr>\n",
       "  </thead>\n",
       "  <tbody>\n",
       "    <tr>\n",
       "      <th>0</th>\n",
       "      <td>0001_01</td>\n",
       "      <td>Europa</td>\n",
       "      <td>False</td>\n",
       "      <td>B/0/P</td>\n",
       "      <td>TRAPPIST-1e</td>\n",
       "      <td>39.0</td>\n",
       "      <td>False</td>\n",
       "      <td>0.0</td>\n",
       "      <td>0.0</td>\n",
       "      <td>0.0</td>\n",
       "      <td>0.0</td>\n",
       "      <td>0.0</td>\n",
       "      <td>Maham Ofracculy</td>\n",
       "      <td>False</td>\n",
       "    </tr>\n",
       "    <tr>\n",
       "      <th>1</th>\n",
       "      <td>0002_01</td>\n",
       "      <td>Earth</td>\n",
       "      <td>False</td>\n",
       "      <td>F/0/S</td>\n",
       "      <td>TRAPPIST-1e</td>\n",
       "      <td>24.0</td>\n",
       "      <td>False</td>\n",
       "      <td>109.0</td>\n",
       "      <td>9.0</td>\n",
       "      <td>25.0</td>\n",
       "      <td>549.0</td>\n",
       "      <td>44.0</td>\n",
       "      <td>Juanna Vines</td>\n",
       "      <td>True</td>\n",
       "    </tr>\n",
       "    <tr>\n",
       "      <th>2</th>\n",
       "      <td>0003_01</td>\n",
       "      <td>Europa</td>\n",
       "      <td>False</td>\n",
       "      <td>A/0/S</td>\n",
       "      <td>TRAPPIST-1e</td>\n",
       "      <td>58.0</td>\n",
       "      <td>True</td>\n",
       "      <td>43.0</td>\n",
       "      <td>3576.0</td>\n",
       "      <td>0.0</td>\n",
       "      <td>6715.0</td>\n",
       "      <td>49.0</td>\n",
       "      <td>Altark Susent</td>\n",
       "      <td>False</td>\n",
       "    </tr>\n",
       "    <tr>\n",
       "      <th>3</th>\n",
       "      <td>0003_02</td>\n",
       "      <td>Europa</td>\n",
       "      <td>False</td>\n",
       "      <td>A/0/S</td>\n",
       "      <td>TRAPPIST-1e</td>\n",
       "      <td>33.0</td>\n",
       "      <td>False</td>\n",
       "      <td>0.0</td>\n",
       "      <td>1283.0</td>\n",
       "      <td>371.0</td>\n",
       "      <td>3329.0</td>\n",
       "      <td>193.0</td>\n",
       "      <td>Solam Susent</td>\n",
       "      <td>False</td>\n",
       "    </tr>\n",
       "    <tr>\n",
       "      <th>4</th>\n",
       "      <td>0004_01</td>\n",
       "      <td>Earth</td>\n",
       "      <td>False</td>\n",
       "      <td>F/1/S</td>\n",
       "      <td>TRAPPIST-1e</td>\n",
       "      <td>16.0</td>\n",
       "      <td>False</td>\n",
       "      <td>303.0</td>\n",
       "      <td>70.0</td>\n",
       "      <td>151.0</td>\n",
       "      <td>565.0</td>\n",
       "      <td>2.0</td>\n",
       "      <td>Willy Santantines</td>\n",
       "      <td>True</td>\n",
       "    </tr>\n",
       "  </tbody>\n",
       "</table>\n",
       "</div>"
      ],
      "text/plain": [
       "  PassengerId HomePlanet CryoSleep  Cabin  Destination   Age    VIP  \\\n",
       "0     0001_01     Europa     False  B/0/P  TRAPPIST-1e  39.0  False   \n",
       "1     0002_01      Earth     False  F/0/S  TRAPPIST-1e  24.0  False   \n",
       "2     0003_01     Europa     False  A/0/S  TRAPPIST-1e  58.0   True   \n",
       "3     0003_02     Europa     False  A/0/S  TRAPPIST-1e  33.0  False   \n",
       "4     0004_01      Earth     False  F/1/S  TRAPPIST-1e  16.0  False   \n",
       "\n",
       "   RoomService  FoodCourt  ShoppingMall     Spa  VRDeck               Name  \\\n",
       "0          0.0        0.0           0.0     0.0     0.0    Maham Ofracculy   \n",
       "1        109.0        9.0          25.0   549.0    44.0       Juanna Vines   \n",
       "2         43.0     3576.0           0.0  6715.0    49.0      Altark Susent   \n",
       "3          0.0     1283.0         371.0  3329.0   193.0       Solam Susent   \n",
       "4        303.0       70.0         151.0   565.0     2.0  Willy Santantines   \n",
       "\n",
       "   Transported  \n",
       "0        False  \n",
       "1         True  \n",
       "2        False  \n",
       "3        False  \n",
       "4         True  "
      ]
     },
     "execution_count": 1,
     "metadata": {},
     "output_type": "execute_result"
    }
   ],
   "source": [
    "# import libraries\n",
    "import pandas as pd\n",
    "import numpy as np\n",
    "import seaborn as sns\n",
    "import matplotlib.pyplot as plt\n",
    "import statistics\n",
    "import time\n",
    "\n",
    "from sklearn.ensemble import GradientBoostingClassifier, RandomForestClassifier\n",
    "from sklearn.linear_model import LogisticRegression\n",
    "from sklearn.model_selection import GridSearchCV, train_test_split\n",
    "from sklearn.pipeline import Pipeline\n",
    "from sklearn.preprocessing import StandardScaler\n",
    "from sklearn.tree import DecisionTreeClassifier\n",
    "\n",
    "import warnings\n",
    "warnings.simplefilter(action='ignore', category=FutureWarning)\n",
    "\n",
    "# import data\n",
    "df_train = pd.read_csv(\"https://raw.githubusercontent.com/jpconher/Kaggle_Spaceship_Titanic/refs/heads/main/data/train.csv\")\n",
    "df_test = pd.read_csv(\"https://raw.githubusercontent.com/jpconher/Kaggle_Spaceship_Titanic/refs/heads/main/data/test.csv\")\n",
    "\n",
    "# show the first 5 rows of the training data\n",
    "df_train.head()"
   ]
  },
  {
   "cell_type": "markdown",
   "id": "3970e6b7",
   "metadata": {
    "id": "o3CLzVZpdNs4",
    "papermill": {
     "duration": 0.014371,
     "end_time": "2025-08-06T05:04:38.770072",
     "exception": false,
     "start_time": "2025-08-06T05:04:38.755701",
     "status": "completed"
    },
    "tags": []
   },
   "source": [
    "More than 8.500 observations in the training set and 14 columns including the dependent variable $Transported$. The test set is about half the size of the training set."
   ]
  },
  {
   "cell_type": "code",
   "execution_count": 2,
   "id": "d8142826",
   "metadata": {
    "execution": {
     "iopub.execute_input": "2025-08-06T05:04:38.799088Z",
     "iopub.status.busy": "2025-08-06T05:04:38.798753Z",
     "iopub.status.idle": "2025-08-06T05:04:38.804322Z",
     "shell.execute_reply": "2025-08-06T05:04:38.803417Z"
    },
    "id": "-Dtd3ZPll3mZ",
    "outputId": "358424c5-99cc-406a-c1a7-9bdef6161368",
    "papermill": {
     "duration": 0.02174,
     "end_time": "2025-08-06T05:04:38.805783",
     "exception": false,
     "start_time": "2025-08-06T05:04:38.784043",
     "status": "completed"
    },
    "tags": []
   },
   "outputs": [
    {
     "name": "stdout",
     "output_type": "stream",
     "text": [
      "Training set shape: (8693, 14)\n",
      "Test set shape: (4277, 13)\n"
     ]
    }
   ],
   "source": [
    "print(\"Training set shape:\", df_train.shape)\n",
    "print(\"Test set shape:\", df_test.shape)"
   ]
  },
  {
   "cell_type": "markdown",
   "id": "952af2bf",
   "metadata": {
    "id": "5PTg35bgXhSs",
    "papermill": {
     "duration": 0.013422,
     "end_time": "2025-08-06T05:04:38.833153",
     "exception": false,
     "start_time": "2025-08-06T05:04:38.819731",
     "status": "completed"
    },
    "tags": []
   },
   "source": [
    "There are both numeric and categorical explanatory variables. Also, we can already see that there are missing values... 😅 "
   ]
  },
  {
   "cell_type": "code",
   "execution_count": 3,
   "id": "750af5ae",
   "metadata": {
    "execution": {
     "iopub.execute_input": "2025-08-06T05:04:38.925586Z",
     "iopub.status.busy": "2025-08-06T05:04:38.925006Z",
     "iopub.status.idle": "2025-08-06T05:04:38.959376Z",
     "shell.execute_reply": "2025-08-06T05:04:38.958274Z"
    },
    "id": "AoSMN2YGWwMI",
    "outputId": "41ceb811-fa20-4594-a948-9195d428885d",
    "papermill": {
     "duration": 0.050798,
     "end_time": "2025-08-06T05:04:38.961011",
     "exception": false,
     "start_time": "2025-08-06T05:04:38.910213",
     "status": "completed"
    },
    "tags": []
   },
   "outputs": [
    {
     "name": "stdout",
     "output_type": "stream",
     "text": [
      "<class 'pandas.core.frame.DataFrame'>\n",
      "RangeIndex: 8693 entries, 0 to 8692\n",
      "Data columns (total 14 columns):\n",
      " #   Column        Non-Null Count  Dtype  \n",
      "---  ------        --------------  -----  \n",
      " 0   PassengerId   8693 non-null   object \n",
      " 1   HomePlanet    8492 non-null   object \n",
      " 2   CryoSleep     8476 non-null   object \n",
      " 3   Cabin         8494 non-null   object \n",
      " 4   Destination   8511 non-null   object \n",
      " 5   Age           8514 non-null   float64\n",
      " 6   VIP           8490 non-null   object \n",
      " 7   RoomService   8512 non-null   float64\n",
      " 8   FoodCourt     8510 non-null   float64\n",
      " 9   ShoppingMall  8485 non-null   float64\n",
      " 10  Spa           8510 non-null   float64\n",
      " 11  VRDeck        8505 non-null   float64\n",
      " 12  Name          8493 non-null   object \n",
      " 13  Transported   8693 non-null   bool   \n",
      "dtypes: bool(1), float64(6), object(7)\n",
      "memory usage: 891.5+ KB\n"
     ]
    }
   ],
   "source": [
    "df_train.info()"
   ]
  },
  {
   "cell_type": "markdown",
   "id": "70080cf8",
   "metadata": {
    "id": "_ewTW5tSk6pf",
    "papermill": {
     "duration": 0.013817,
     "end_time": "2025-08-06T05:04:38.989964",
     "exception": false,
     "start_time": "2025-08-06T05:04:38.976147",
     "status": "completed"
    },
    "tags": []
   },
   "source": [
    "## Dependent variable"
   ]
  },
  {
   "cell_type": "markdown",
   "id": "2a263617",
   "metadata": {
    "id": "X0qQioOCXQyH",
    "papermill": {
     "duration": 0.013976,
     "end_time": "2025-08-06T05:04:39.018199",
     "exception": false,
     "start_time": "2025-08-06T05:04:39.004223",
     "status": "completed"
    },
    "tags": []
   },
   "source": [
    "$Transported$ is a boolean type variable. The value $True$ is slightly most common with a relative frequency of 50.4%."
   ]
  },
  {
   "cell_type": "code",
   "execution_count": 4,
   "id": "8d760e73",
   "metadata": {
    "execution": {
     "iopub.execute_input": "2025-08-06T05:04:39.048194Z",
     "iopub.status.busy": "2025-08-06T05:04:39.047315Z",
     "iopub.status.idle": "2025-08-06T05:04:39.313238Z",
     "shell.execute_reply": "2025-08-06T05:04:39.312248Z"
    },
    "id": "dxdQ4-4vdGEa",
    "outputId": "d1fe4a9a-b7d8-46e2-df5a-b8f749be6392",
    "papermill": {
     "duration": 0.282857,
     "end_time": "2025-08-06T05:04:39.315107",
     "exception": false,
     "start_time": "2025-08-06T05:04:39.032250",
     "status": "completed"
    },
    "tags": []
   },
   "outputs": [
    {
     "data": {
      "text/plain": [
       "<Axes: ylabel='count'>"
      ]
     },
     "execution_count": 4,
     "metadata": {},
     "output_type": "execute_result"
    },
    {
     "data": {
      "image/png": "[encoded data removed]",
      "text/plain": [
       "<Figure size 640x480 with 1 Axes>"
      ]
     },
     "metadata": {},
     "output_type": "display_data"
    }
   ],
   "source": [
    "df_train['Transported'].value_counts().plot.pie(autopct='%1.1f%%')"
   ]
  },
  {
   "cell_type": "markdown",
   "id": "a73abae3",
   "metadata": {
    "id": "uw1tGCMEgVsz",
    "papermill": {
     "duration": 0.014389,
     "end_time": "2025-08-06T05:04:39.344269",
     "exception": false,
     "start_time": "2025-08-06T05:04:39.329880",
     "status": "completed"
    },
    "tags": []
   },
   "source": [
    "## Independent variables"
   ]
  },
  {
   "cell_type": "markdown",
   "id": "123bdce6",
   "metadata": {
    "papermill": {
     "duration": 0.014372,
     "end_time": "2025-08-06T05:04:39.373179",
     "exception": false,
     "start_time": "2025-08-06T05:04:39.358807",
     "status": "completed"
    },
    "tags": []
   },
   "source": [
    "### Numerical variables"
   ]
  },
  {
   "cell_type": "markdown",
   "id": "9cdcb016",
   "metadata": {
    "papermill": {
     "duration": 0.014441,
     "end_time": "2025-08-06T05:04:39.402546",
     "exception": false,
     "start_time": "2025-08-06T05:04:39.388105",
     "status": "completed"
    },
    "tags": []
   },
   "source": [
    "The median person was 27 years old and did not spend anything on amenities."
   ]
  },
  {
   "cell_type": "code",
   "execution_count": 5,
   "id": "d28a3a85",
   "metadata": {
    "execution": {
     "iopub.execute_input": "2025-08-06T05:04:39.433038Z",
     "iopub.status.busy": "2025-08-06T05:04:39.432716Z",
     "iopub.status.idle": "2025-08-06T05:04:39.464216Z",
     "shell.execute_reply": "2025-08-06T05:04:39.463297Z"
    },
    "papermill": {
     "duration": 0.048643,
     "end_time": "2025-08-06T05:04:39.465841",
     "exception": false,
     "start_time": "2025-08-06T05:04:39.417198",
     "status": "completed"
    },
    "tags": []
   },
   "outputs": [
    {
     "data": {
      "text/html": [
       "<div>\n",
       "<style scoped>\n",
       "    .dataframe tbody tr th:only-of-type {\n",
       "        vertical-align: middle;\n",
       "    }\n",
       "\n",
       "    .dataframe tbody tr th {\n",
       "        vertical-align: top;\n",
       "    }\n",
       "\n",
       "    .dataframe thead th {\n",
       "        text-align: right;\n",
       "    }\n",
       "</style>\n",
       "<table border=\"1\" class=\"dataframe\">\n",
       "  <thead>\n",
       "    <tr style=\"text-align: right;\">\n",
       "      <th></th>\n",
       "      <th>Age</th>\n",
       "      <th>RoomService</th>\n",
       "      <th>FoodCourt</th>\n",
       "      <th>ShoppingMall</th>\n",
       "      <th>Spa</th>\n",
       "      <th>VRDeck</th>\n",
       "    </tr>\n",
       "  </thead>\n",
       "  <tbody>\n",
       "    <tr>\n",
       "      <th>count</th>\n",
       "      <td>8514.000000</td>\n",
       "      <td>8512.000000</td>\n",
       "      <td>8510.000000</td>\n",
       "      <td>8485.000000</td>\n",
       "      <td>8510.000000</td>\n",
       "      <td>8505.000000</td>\n",
       "    </tr>\n",
       "    <tr>\n",
       "      <th>mean</th>\n",
       "      <td>28.827930</td>\n",
       "      <td>224.687617</td>\n",
       "      <td>458.077203</td>\n",
       "      <td>173.729169</td>\n",
       "      <td>311.138778</td>\n",
       "      <td>304.854791</td>\n",
       "    </tr>\n",
       "    <tr>\n",
       "      <th>std</th>\n",
       "      <td>14.489021</td>\n",
       "      <td>666.717663</td>\n",
       "      <td>1611.489240</td>\n",
       "      <td>604.696458</td>\n",
       "      <td>1136.705535</td>\n",
       "      <td>1145.717189</td>\n",
       "    </tr>\n",
       "    <tr>\n",
       "      <th>min</th>\n",
       "      <td>0.000000</td>\n",
       "      <td>0.000000</td>\n",
       "      <td>0.000000</td>\n",
       "      <td>0.000000</td>\n",
       "      <td>0.000000</td>\n",
       "      <td>0.000000</td>\n",
       "    </tr>\n",
       "    <tr>\n",
       "      <th>25%</th>\n",
       "      <td>19.000000</td>\n",
       "      <td>0.000000</td>\n",
       "      <td>0.000000</td>\n",
       "      <td>0.000000</td>\n",
       "      <td>0.000000</td>\n",
       "      <td>0.000000</td>\n",
       "    </tr>\n",
       "    <tr>\n",
       "      <th>50%</th>\n",
       "      <td>27.000000</td>\n",
       "      <td>0.000000</td>\n",
       "      <td>0.000000</td>\n",
       "      <td>0.000000</td>\n",
       "      <td>0.000000</td>\n",
       "      <td>0.000000</td>\n",
       "    </tr>\n",
       "    <tr>\n",
       "      <th>75%</th>\n",
       "      <td>38.000000</td>\n",
       "      <td>47.000000</td>\n",
       "      <td>76.000000</td>\n",
       "      <td>27.000000</td>\n",
       "      <td>59.000000</td>\n",
       "      <td>46.000000</td>\n",
       "    </tr>\n",
       "    <tr>\n",
       "      <th>max</th>\n",
       "      <td>79.000000</td>\n",
       "      <td>14327.000000</td>\n",
       "      <td>29813.000000</td>\n",
       "      <td>23492.000000</td>\n",
       "      <td>22408.000000</td>\n",
       "      <td>24133.000000</td>\n",
       "    </tr>\n",
       "  </tbody>\n",
       "</table>\n",
       "</div>"
      ],
      "text/plain": [
       "               Age   RoomService     FoodCourt  ShoppingMall           Spa  \\\n",
       "count  8514.000000   8512.000000   8510.000000   8485.000000   8510.000000   \n",
       "mean     28.827930    224.687617    458.077203    173.729169    311.138778   \n",
       "std      14.489021    666.717663   1611.489240    604.696458   1136.705535   \n",
       "min       0.000000      0.000000      0.000000      0.000000      0.000000   \n",
       "25%      19.000000      0.000000      0.000000      0.000000      0.000000   \n",
       "50%      27.000000      0.000000      0.000000      0.000000      0.000000   \n",
       "75%      38.000000     47.000000     76.000000     27.000000     59.000000   \n",
       "max      79.000000  14327.000000  29813.000000  23492.000000  22408.000000   \n",
       "\n",
       "             VRDeck  \n",
       "count   8505.000000  \n",
       "mean     304.854791  \n",
       "std     1145.717189  \n",
       "min        0.000000  \n",
       "25%        0.000000  \n",
       "50%        0.000000  \n",
       "75%       46.000000  \n",
       "max    24133.000000  "
      ]
     },
     "execution_count": 5,
     "metadata": {},
     "output_type": "execute_result"
    }
   ],
   "source": [
    "# Obtain numeric columns\n",
    "numerical_columns = df_train.select_dtypes(include=['int64', 'float64']).columns\n",
    "\n",
    "# Compute descriptive statistics\n",
    "df_train[numerical_columns].describe()"
   ]
  },
  {
   "cell_type": "markdown",
   "id": "0c67a521",
   "metadata": {
    "papermill": {
     "duration": 0.014756,
     "end_time": "2025-08-06T05:04:39.495802",
     "exception": false,
     "start_time": "2025-08-06T05:04:39.481046",
     "status": "completed"
    },
    "tags": []
   },
   "source": [
    "The numerical variables show low correlation among them."
   ]
  },
  {
   "cell_type": "code",
   "execution_count": 6,
   "id": "f70ff0d1",
   "metadata": {
    "execution": {
     "iopub.execute_input": "2025-08-06T05:04:39.526914Z",
     "iopub.status.busy": "2025-08-06T05:04:39.526558Z",
     "iopub.status.idle": "2025-08-06T05:04:39.845966Z",
     "shell.execute_reply": "2025-08-06T05:04:39.845042Z"
    },
    "papermill": {
     "duration": 0.336825,
     "end_time": "2025-08-06T05:04:39.847416",
     "exception": false,
     "start_time": "2025-08-06T05:04:39.510591",
     "status": "completed"
    },
    "tags": []
   },
   "outputs": [
    {
     "data": {
      "text/plain": [
       "<Axes: >"
      ]
     },
     "execution_count": 6,
     "metadata": {},
     "output_type": "execute_result"
    },
    {
     "data": {
      "image/png": "[encoded data removed]",
      "text/plain": [
       "<Figure size 640x480 with 2 Axes>"
      ]
     },
     "metadata": {},
     "output_type": "display_data"
    }
   ],
   "source": [
    "# Plot heatmap\n",
    "sns.heatmap(df_train[numerical_columns].corr(), annot=True, cmap='coolwarm')"
   ]
  },
  {
   "cell_type": "markdown",
   "id": "1ac0eaab",
   "metadata": {
    "papermill": {
     "duration": 0.015991,
     "end_time": "2025-08-06T05:04:39.880207",
     "exception": false,
     "start_time": "2025-08-06T05:04:39.864216",
     "status": "completed"
    },
    "tags": []
   },
   "source": [
    "#### Age"
   ]
  },
  {
   "cell_type": "markdown",
   "id": "1e2d975c",
   "metadata": {
    "id": "LKxYKYU-lFvt",
    "papermill": {
     "duration": 0.015982,
     "end_time": "2025-08-06T05:04:39.912315",
     "exception": false,
     "start_time": "2025-08-06T05:04:39.896333",
     "status": "completed"
    },
    "tags": []
   },
   "source": [
    "Some insights can be extracted from the plot of the distribution of $Age$:\n",
    "* 0-18 years old more likely to be transported (especially 0-4 years old).\n",
    "* 18-25 years old less likely to be transported.\n",
    "* 25-40 years old slightly less likely to be transported.\n",
    "* Above 40 years old no significant difference.\n",
    "\n",
    "Possible features:\n",
    "* Dummies for each age group.\n",
    "* Alternatively, include higher order terms (at least third order) to model relationship.\n",
    "\n"
   ]
  },
  {
   "cell_type": "code",
   "execution_count": 7,
   "id": "800ff267",
   "metadata": {
    "execution": {
     "iopub.execute_input": "2025-08-06T05:04:39.947194Z",
     "iopub.status.busy": "2025-08-06T05:04:39.946857Z",
     "iopub.status.idle": "2025-08-06T05:04:40.629342Z",
     "shell.execute_reply": "2025-08-06T05:04:40.628417Z"
    },
    "id": "JF5y0CutlF3b",
    "outputId": "cdba52a5-c5ea-4ac0-820e-0f25cbb030d3",
    "papermill": {
     "duration": 0.701414,
     "end_time": "2025-08-06T05:04:40.630973",
     "exception": false,
     "start_time": "2025-08-06T05:04:39.929559",
     "status": "completed"
    },
    "tags": []
   },
   "outputs": [
    {
     "data": {
      "text/plain": [
       "Text(0.5, 1.0, 'Distribution of Age')"
      ]
     },
     "execution_count": 7,
     "metadata": {},
     "output_type": "execute_result"
    },
    {
     "data": {
      "image/png": "[encoded data removed]",
      "text/plain": [
       "<Figure size 1000x400 with 1 Axes>"
      ]
     },
     "metadata": {},
     "output_type": "display_data"
    }
   ],
   "source": [
    "# age\n",
    "plt.figure(figsize=(10,4))\n",
    "sns.histplot(data=df_train, x='Age', hue='Transported', binwidth=1, kde=True)\n",
    "plt.title('Distribution of Age')"
   ]
  },
  {
   "cell_type": "markdown",
   "id": "b9eccc84",
   "metadata": {
    "papermill": {
     "duration": 0.018462,
     "end_time": "2025-08-06T05:04:40.669078",
     "exception": false,
     "start_time": "2025-08-06T05:04:40.650616",
     "status": "completed"
    },
    "tags": []
   },
   "source": [
    "#### Expenditure features (amenities)"
   ]
  },
  {
   "cell_type": "markdown",
   "id": "c3cfaed8",
   "metadata": {
    "papermill": {
     "duration": 0.017485,
     "end_time": "2025-08-06T05:04:40.704706",
     "exception": false,
     "start_time": "2025-08-06T05:04:40.687221",
     "status": "completed"
    },
    "tags": []
   },
   "source": [
    "Regarding expenditure variables, we can make the following observations:\n",
    "* Those who don't spend any money have higher likelihood of being transported than on average (which is around 50% likelihood). \n",
    "* The more the passenger spends on $VRDeck$, $Spa$ and $RoomService$ the lower the likelihood of being transported.\n",
    "* Given that the passenger spends some money on $ShoppingMall$ or $FoodCourt$, the more they spend, the higher the likelihood of being transported.\n",
    "\n",
    "For modelling these relationships two things should be considered:\n",
    "* There seems to be a \"jump\" in the likelihood between the passenger spending any amount (> 0) and not spending at all (= 0). \n",
    "* Provided the passenger has spent on that amenity, the relationship between amount of the expenditure on the amenity and likelihood of being transported seems to be exponential (little effect for small amounts, large effects for larger amounts).\n",
    "\n",
    "Possible features:\n",
    "* Sum total expenditures or sum them in two groups depending on whether they contribute to being transported or not.\n",
    "* Create dummies with expenditure levels for each variable.\n",
    "* Add a binary indicator for whether the passenger spent some money on the amenity or not. \n",
    "* Include higher order terms to capture non-linearity of the relationship. \n",
    "\n",
    "\n",
    "\n"
   ]
  },
  {
   "cell_type": "code",
   "execution_count": 8,
   "id": "6564bd2a",
   "metadata": {
    "execution": {
     "iopub.execute_input": "2025-08-06T05:04:40.741682Z",
     "iopub.status.busy": "2025-08-06T05:04:40.741319Z",
     "iopub.status.idle": "2025-08-06T05:04:41.890280Z",
     "shell.execute_reply": "2025-08-06T05:04:41.889404Z"
    },
    "papermill": {
     "duration": 1.171582,
     "end_time": "2025-08-06T05:04:41.894121",
     "exception": false,
     "start_time": "2025-08-06T05:04:40.722539",
     "status": "completed"
    },
    "tags": []
   },
   "outputs": [
    {
     "data": {
      "image/png": "[encoded data removed]",
      "text/plain": [
       "<Figure size 1000x1800 with 5 Axes>"
      ]
     },
     "metadata": {},
     "output_type": "display_data"
    }
   ],
   "source": [
    "exp_feats = ['RoomService', 'FoodCourt', 'ShoppingMall', 'Spa', 'VRDeck']\n",
    "interval = [-1, 0, 10, 100, 1000, 5000, 100000]\n",
    "\n",
    "fig, axes = plt.subplots(len(exp_feats), 1, figsize=(10, 18))\n",
    "\n",
    "for i, var_name in enumerate(exp_feats):\n",
    "\n",
    "    # Bin the data\n",
    "    df_train[var_name + '_bin'] = pd.cut(df_train[var_name], bins=interval)\n",
    "\n",
    "    # Calculate proportion transported per bin\n",
    "    prop = df_train.groupby(var_name + '_bin', observed=True)['Transported'].mean()\n",
    "    count = df_train.groupby(var_name + '_bin', observed=True)['Transported'].count()\n",
    "\n",
    "    # Plot\n",
    "    ax = axes[i]\n",
    "    prop.plot(kind='bar', ax=ax, color='skyblue', alpha=0.7)\n",
    "    ax.set_title(f'Proportion Transported by {var_name} (binned)')\n",
    "    ax.set_ylabel('Proportion Transported')\n",
    "    ax.set_xlabel(var_name + ' (binned)')\n",
    "\n",
    "    # Optionally, show count as text\n",
    "    for idx, val in enumerate(prop):\n",
    "        ax.text(idx, val + 0.02, f'n={count.iloc[idx]}', ha='center', fontsize=8)\n",
    "\n",
    "    # Drop the temporary bin column\n",
    "    df_train.drop(columns=[var_name + '_bin'], inplace=True)\n",
    "\n",
    "plt.tight_layout()"
   ]
  },
  {
   "cell_type": "markdown",
   "id": "6a421328",
   "metadata": {
    "id": "izWILyRhlHVO",
    "papermill": {
     "duration": 0.021453,
     "end_time": "2025-08-06T05:04:41.937319",
     "exception": false,
     "start_time": "2025-08-06T05:04:41.915866",
     "status": "completed"
    },
    "tags": []
   },
   "source": [
    "### Categorical variables"
   ]
  },
  {
   "cell_type": "markdown",
   "id": "968bd4a9",
   "metadata": {
    "papermill": {
     "duration": 0.022108,
     "end_time": "2025-08-06T05:04:41.981215",
     "exception": false,
     "start_time": "2025-08-06T05:04:41.959107",
     "status": "completed"
    },
    "tags": []
   },
   "source": [
    "* Passangers from planet Earth were less likely to be transported. The opposite was true for passengers from the moon Europa.\n",
    "* $Cryosleep$ has a considerable discriminatory power. Passengers who do cryosleep are very likely to be transported while passengers who don't are less likely.\n",
    "* Destination 55 Cancri e is associated with a relatively higher likelihood of being transported. The opposite is true for destination TRAPPIST-1e (although weaker effect).\n",
    "* VIP passengers have a lower likelihood of being transported (apparently, need to check with a test the significance). For non-VIP passengers almost equal likelihood.\n",
    "\n",
    "Possible features:\n",
    "* Convert categorical variables into dummies.\n",
    "* Need to check two-way relationships to see if interaction dummies can be included in the model. For example, the destination planet may change the likelihood of being transported according to the home planet. "
   ]
  },
  {
   "cell_type": "code",
   "execution_count": 9,
   "id": "0d561150",
   "metadata": {
    "execution": {
     "iopub.execute_input": "2025-08-06T05:04:42.026046Z",
     "iopub.status.busy": "2025-08-06T05:04:42.025755Z",
     "iopub.status.idle": "2025-08-06T05:04:43.053163Z",
     "shell.execute_reply": "2025-08-06T05:04:43.052272Z"
    },
    "id": "dSeShdznK0AV",
    "outputId": "150016a7-4e92-442b-b231-267b3f5f913b",
    "papermill": {
     "duration": 1.052292,
     "end_time": "2025-08-06T05:04:43.055432",
     "exception": false,
     "start_time": "2025-08-06T05:04:42.003140",
     "status": "completed"
    },
    "tags": []
   },
   "outputs": [
    {
     "data": {
      "image/png": "[encoded data removed]",
      "text/plain": [
       "<Figure size 1000x1600 with 4 Axes>"
      ]
     },
     "metadata": {},
     "output_type": "display_data"
    }
   ],
   "source": [
    "# categorical features\n",
    "cat_feats=['HomePlanet', 'CryoSleep', 'Destination', 'VIP']\n",
    "\n",
    "# Plot categorical features\n",
    "fig=plt.figure(figsize=(10,16))\n",
    "for i, var_name in enumerate(cat_feats):\n",
    "    ax=fig.add_subplot(4,1,i+1)\n",
    "    sns.countplot(data=df_train, x=var_name, axes=ax, hue='Transported')\n",
    "    ax.set_title(var_name)\n",
    "\n",
    "fig.tight_layout()"
   ]
  },
  {
   "cell_type": "markdown",
   "id": "a2d45254",
   "metadata": {
    "papermill": {
     "duration": 0.025058,
     "end_time": "2025-08-06T05:04:43.104681",
     "exception": false,
     "start_time": "2025-08-06T05:04:43.079623",
     "status": "completed"
    },
    "tags": []
   },
   "source": [
    "Finally, there is a higher probability of being transported for passengers that travel in groups compared to those that travel alone. A good feature could be a dummy variable that indicates whether the passenger is traveling alone or not. "
   ]
  },
  {
   "cell_type": "code",
   "execution_count": 10,
   "id": "fcbc38f9",
   "metadata": {
    "execution": {
     "iopub.execute_input": "2025-08-06T05:04:43.154457Z",
     "iopub.status.busy": "2025-08-06T05:04:43.154089Z",
     "iopub.status.idle": "2025-08-06T05:04:43.413748Z",
     "shell.execute_reply": "2025-08-06T05:04:43.412818Z"
    },
    "papermill": {
     "duration": 0.28593,
     "end_time": "2025-08-06T05:04:43.415272",
     "exception": false,
     "start_time": "2025-08-06T05:04:43.129342",
     "status": "completed"
    },
    "tags": []
   },
   "outputs": [
    {
     "data": {
      "text/plain": [
       "Text(0.5, 1.0, 'Group Size vs Transported')"
      ]
     },
     "execution_count": 10,
     "metadata": {},
     "output_type": "execute_result"
    },
    {
     "data": {
      "image/png": "[encoded data removed]",
      "text/plain": [
       "<Figure size 640x480 with 1 Axes>"
      ]
     },
     "metadata": {},
     "output_type": "display_data"
    }
   ],
   "source": [
    "# group of passenger\n",
    "df_train['Group'] = df_train['PassengerId'].str.split('_', expand = True)[0]\n",
    "\n",
    "# create GroupSize variable\n",
    "df_train['GroupSize'] = df_train.groupby('Group')['Group'].transform('count')\n",
    "\n",
    "# plot\n",
    "sns.countplot(data=df_train, x='GroupSize', hue='Transported')\n",
    "plt.title('Group Size vs Transported')"
   ]
  },
  {
   "cell_type": "markdown",
   "id": "c8d622bf",
   "metadata": {
    "id": "CoVQ5iiFf-UI",
    "papermill": {
     "duration": 0.025438,
     "end_time": "2025-08-06T05:04:43.465516",
     "exception": false,
     "start_time": "2025-08-06T05:04:43.440078",
     "status": "completed"
    },
    "tags": []
   },
   "source": [
    "# Data preprocessing"
   ]
  },
  {
   "cell_type": "markdown",
   "id": "25a6d09e",
   "metadata": {
    "papermill": {
     "duration": 0.02479,
     "end_time": "2025-08-06T05:04:43.515435",
     "exception": false,
     "start_time": "2025-08-06T05:04:43.490645",
     "status": "completed"
    },
    "tags": []
   },
   "source": [
    "## Missing values"
   ]
  },
  {
   "cell_type": "markdown",
   "id": "3f584f26",
   "metadata": {
    "papermill": {
     "duration": 0.023893,
     "end_time": "2025-08-06T05:04:43.563777",
     "exception": false,
     "start_time": "2025-08-06T05:04:43.539884",
     "status": "completed"
    },
    "tags": []
   },
   "source": [
    "There are missing values in all the features except $Transported$ and $PassengerId$."
   ]
  },
  {
   "cell_type": "code",
   "execution_count": 11,
   "id": "dfb762cf",
   "metadata": {
    "execution": {
     "iopub.execute_input": "2025-08-06T05:04:43.613839Z",
     "iopub.status.busy": "2025-08-06T05:04:43.613544Z",
     "iopub.status.idle": "2025-08-06T05:04:43.626074Z",
     "shell.execute_reply": "2025-08-06T05:04:43.625277Z"
    },
    "papermill": {
     "duration": 0.039803,
     "end_time": "2025-08-06T05:04:43.627867",
     "exception": false,
     "start_time": "2025-08-06T05:04:43.588064",
     "status": "completed"
    },
    "tags": []
   },
   "outputs": [
    {
     "data": {
      "text/plain": [
       "CryoSleep       217\n",
       "ShoppingMall    208\n",
       "VIP             203\n",
       "HomePlanet      201\n",
       "Name            200\n",
       "Cabin           199\n",
       "VRDeck          188\n",
       "FoodCourt       183\n",
       "Spa             183\n",
       "Destination     182\n",
       "RoomService     181\n",
       "Age             179\n",
       "PassengerId       0\n",
       "Transported       0\n",
       "Group             0\n",
       "GroupSize         0\n",
       "dtype: int64"
      ]
     },
     "execution_count": 11,
     "metadata": {},
     "output_type": "execute_result"
    }
   ],
   "source": [
    "df_train.isna().sum().sort_values(ascending=False)"
   ]
  },
  {
   "cell_type": "markdown",
   "id": "5e2d7095",
   "metadata": {
    "papermill": {
     "duration": 0.024724,
     "end_time": "2025-08-06T05:04:43.677805",
     "exception": false,
     "start_time": "2025-08-06T05:04:43.653081",
     "status": "completed"
    },
    "tags": []
   },
   "source": [
    "In general, non-existent relationship of the variable missingness and the likelihood of the passenger being transported."
   ]
  },
  {
   "cell_type": "code",
   "execution_count": 12,
   "id": "397697d7",
   "metadata": {
    "execution": {
     "iopub.execute_input": "2025-08-06T05:04:43.729261Z",
     "iopub.status.busy": "2025-08-06T05:04:43.728960Z",
     "iopub.status.idle": "2025-08-06T05:04:43.801770Z",
     "shell.execute_reply": "2025-08-06T05:04:43.800681Z"
    },
    "papermill": {
     "duration": 0.100186,
     "end_time": "2025-08-06T05:04:43.803330",
     "exception": false,
     "start_time": "2025-08-06T05:04:43.703144",
     "status": "completed"
    },
    "tags": []
   },
   "outputs": [
    {
     "name": "stdout",
     "output_type": "stream",
     "text": [
      "                   count      mean\n",
      "HomePlanetMissing                 \n",
      "0                   8492  0.503415\n",
      "1                    201  0.512438\n",
      "                  count      mean\n",
      "CryoSleepMissing                 \n",
      "0                  8476  0.504011\n",
      "1                   217  0.488479\n",
      "              count      mean\n",
      "CabinMissing                 \n",
      "0              8494  0.503650\n",
      "1               199  0.502513\n",
      "                    count      mean\n",
      "DestinationMissing                 \n",
      "0                    8511  0.503584\n",
      "1                     182  0.505495\n",
      "            count      mean\n",
      "AgeMissing                 \n",
      "0            8514  0.503641\n",
      "1             179  0.502793\n",
      "            count      mean\n",
      "VIPMissing                 \n",
      "0            8490  0.503416\n",
      "1             203  0.512315\n",
      "                    count      mean\n",
      "RoomServiceMissing                 \n",
      "0                    8512  0.504582\n",
      "1                     181  0.458564\n",
      "                  count      mean\n",
      "FoodCourtMissing                 \n",
      "0                  8510  0.502820\n",
      "1                   183  0.540984\n",
      "                     count      mean\n",
      "ShoppingMallMissing                 \n",
      "0                     8485  0.502534\n",
      "1                      208  0.548077\n",
      "            count      mean\n",
      "SpaMissing                 \n",
      "0            8510  0.503760\n",
      "1             183  0.497268\n",
      "               count      mean\n",
      "VRDeckMissing                 \n",
      "0               8505  0.503233\n",
      "1                188  0.521277\n",
      "             count      mean\n",
      "NameMissing                 \n",
      "0             8493  0.503591\n",
      "1              200  0.505000\n",
      "              count      mean\n",
      "GroupMissing                 \n",
      "0              8693  0.503624\n",
      "                  count      mean\n",
      "GroupSizeMissing                 \n",
      "0                  8693  0.503624\n"
     ]
    }
   ],
   "source": [
    "for col in df_train.columns:\n",
    "    if col in ['Transported', 'PassengerId']:\n",
    "        continue\n",
    "    name = col + \"Missing\"\n",
    "    df_train[name] = df_train[col].isna().astype(int)\n",
    "    print(df_train.groupby(name)['Transported'].agg(['count', 'mean']))\n",
    "    df_train.drop(name, axis=1, inplace=True)"
   ]
  },
  {
   "cell_type": "markdown",
   "id": "b0db705f",
   "metadata": {
    "papermill": {
     "duration": 0.024281,
     "end_time": "2025-08-06T05:04:43.852994",
     "exception": false,
     "start_time": "2025-08-06T05:04:43.828713",
     "status": "completed"
    },
    "tags": []
   },
   "source": [
    "When the passenger has more than one feature missing, the likelihood of being transported is slightly (yet significantly) higher. This information will be kept as a possible candidate for our models."
   ]
  },
  {
   "cell_type": "code",
   "execution_count": 13,
   "id": "e9788bda",
   "metadata": {
    "execution": {
     "iopub.execute_input": "2025-08-06T05:04:43.903620Z",
     "iopub.status.busy": "2025-08-06T05:04:43.903274Z",
     "iopub.status.idle": "2025-08-06T05:04:43.919540Z",
     "shell.execute_reply": "2025-08-06T05:04:43.918516Z"
    },
    "papermill": {
     "duration": 0.043067,
     "end_time": "2025-08-06T05:04:43.920942",
     "exception": false,
     "start_time": "2025-08-06T05:04:43.877875",
     "status": "completed"
    },
    "tags": []
   },
   "outputs": [
    {
     "name": "stdout",
     "output_type": "stream",
     "text": [
      "                 count      mean\n",
      "MultipleMissing                 \n",
      "False             8473  0.502537\n",
      "True               220  0.545455\n"
     ]
    }
   ],
   "source": [
    "# create dummy describing whether the observation has missing values.\n",
    "df_train['MultipleMissing'] = (df_train.isna().sum(axis=1) > 1)\n",
    "\n",
    "print(df_train.groupby(['MultipleMissing'])['Transported'].agg(['count', 'mean']))"
   ]
  },
  {
   "cell_type": "markdown",
   "id": "8fa1cdeb",
   "metadata": {
    "papermill": {
     "duration": 0.024447,
     "end_time": "2025-08-06T05:04:43.970457",
     "exception": false,
     "start_time": "2025-08-06T05:04:43.946010",
     "status": "completed"
    },
    "tags": []
   },
   "source": [
    "### HomePlanet"
   ]
  },
  {
   "cell_type": "markdown",
   "id": "a781dcd3",
   "metadata": {
    "papermill": {
     "duration": 0.024741,
     "end_time": "2025-08-06T05:04:44.020397",
     "exception": false,
     "start_time": "2025-08-06T05:04:43.995656",
     "status": "completed"
    },
    "tags": []
   },
   "source": [
    "Groups always come from the same home planet."
   ]
  },
  {
   "cell_type": "code",
   "execution_count": 14,
   "id": "70a4bac9",
   "metadata": {
    "execution": {
     "iopub.execute_input": "2025-08-06T05:04:44.070885Z",
     "iopub.status.busy": "2025-08-06T05:04:44.070555Z",
     "iopub.status.idle": "2025-08-06T05:04:44.327626Z",
     "shell.execute_reply": "2025-08-06T05:04:44.326690Z"
    },
    "papermill": {
     "duration": 0.284436,
     "end_time": "2025-08-06T05:04:44.329257",
     "exception": false,
     "start_time": "2025-08-06T05:04:44.044821",
     "status": "completed"
    },
    "tags": []
   },
   "outputs": [
    {
     "name": "stdout",
     "output_type": "stream",
     "text": [
      "There are 0 groups with more than one home planet.\n"
     ]
    }
   ],
   "source": [
    "# group of passenger\n",
    "df_train['Group'] = df_train['PassengerId'].str.split('_', expand = True)[0]\n",
    "\n",
    "# number of groups with more than one home planet\n",
    "print(\"There are\", sum(df_train.groupby(['Group'])['HomePlanet'].nunique() > 1),\n",
    "      \"groups with more than one home planet.\")\n",
    "\n",
    "# get home planet for each group\n",
    "x = df_train.groupby('Group')['HomePlanet'].unique()"
   ]
  },
  {
   "cell_type": "markdown",
   "id": "07e7d1e3",
   "metadata": {
    "papermill": {
     "duration": 0.024079,
     "end_time": "2025-08-06T05:04:44.379040",
     "exception": false,
     "start_time": "2025-08-06T05:04:44.354961",
     "status": "completed"
    },
    "tags": []
   },
   "source": [
    "Passengers who travel on decks A, B, C and T all come from Europa while passengers who travel on deck G come from the Earth. Moreover, since no VIP passengers come from Earth, passengers who travel on deck F and are VIP must come from Mars. "
   ]
  },
  {
   "cell_type": "code",
   "execution_count": 15,
   "id": "cfb30839",
   "metadata": {
    "execution": {
     "iopub.execute_input": "2025-08-06T05:04:44.429522Z",
     "iopub.status.busy": "2025-08-06T05:04:44.429174Z",
     "iopub.status.idle": "2025-08-06T05:04:44.454985Z",
     "shell.execute_reply": "2025-08-06T05:04:44.453882Z"
    },
    "papermill": {
     "duration": 0.052859,
     "end_time": "2025-08-06T05:04:44.456523",
     "exception": false,
     "start_time": "2025-08-06T05:04:44.403664",
     "status": "completed"
    },
    "tags": []
   },
   "outputs": [
    {
     "name": "stdout",
     "output_type": "stream",
     "text": [
      "                 count\n",
      "Deck HomePlanet       \n",
      "A    Europa        252\n",
      "B    Europa        766\n",
      "C    Europa        734\n",
      "D    Europa        186\n",
      "     Mars          282\n",
      "E    Earth         395\n",
      "     Europa        128\n",
      "     Mars          330\n",
      "F    Earth        1614\n",
      "     Mars         1110\n",
      "G    Earth        2498\n",
      "T    Europa          4\n",
      "                  count\n",
      "VIP   HomePlanet       \n",
      "False Earth        4487\n",
      "      Europa       1958\n",
      "      Mars         1653\n",
      "True  Europa        131\n",
      "      Mars           63\n"
     ]
    }
   ],
   "source": [
    "# extract deck, num & side\n",
    "df_train[['Deck', 'Num', 'Side']] = df_train['Cabin'].str.split('/', expand=True)\n",
    "\n",
    "print(df_train.groupby(['Deck', 'HomePlanet'])['PassengerId'].agg(['count']))\n",
    "print(df_train.groupby(['VIP', 'HomePlanet'])['PassengerId'].agg(['count']))"
   ]
  },
  {
   "cell_type": "markdown",
   "id": "a49e2dad",
   "metadata": {
    "papermill": {
     "duration": 0.024687,
     "end_time": "2025-08-06T05:04:44.506783",
     "exception": false,
     "start_time": "2025-08-06T05:04:44.482096",
     "status": "completed"
    },
    "tags": []
   },
   "source": [
    "All passengers who share the same last name come from the same home planet."
   ]
  },
  {
   "cell_type": "code",
   "execution_count": 16,
   "id": "ba0b1543",
   "metadata": {
    "execution": {
     "iopub.execute_input": "2025-08-06T05:04:44.558513Z",
     "iopub.status.busy": "2025-08-06T05:04:44.557879Z",
     "iopub.status.idle": "2025-08-06T05:04:44.671605Z",
     "shell.execute_reply": "2025-08-06T05:04:44.670669Z"
    },
    "papermill": {
     "duration": 0.141442,
     "end_time": "2025-08-06T05:04:44.673380",
     "exception": false,
     "start_time": "2025-08-06T05:04:44.531938",
     "status": "completed"
    },
    "tags": []
   },
   "outputs": [
    {
     "name": "stdout",
     "output_type": "stream",
     "text": [
      "There are 1835 last names with more than one person.\n",
      "Yet, there are 0 last names with more than one home planet.\n"
     ]
    }
   ],
   "source": [
    "# extract last name\n",
    "df_train[['GivenName', 'LastName']] = df_train['Name'].str.split(' ', expand=True)\n",
    "\n",
    "# number of people with duplicate last names\n",
    "print(\"There are\", sum(df_train.groupby(['LastName'])['PassengerId'].nunique() > 1),\n",
    "      \"last names with more than one person.\")\n",
    "\n",
    "# number of home planets by last name\n",
    "print(\"Yet, there are\", sum(df_train.groupby(['LastName'])['HomePlanet'].nunique() > 1),\n",
    "      \"last names with more than one home planet.\")\n",
    "\n",
    "# get home planet for each last name\n",
    "x = df_train.groupby('LastName')['HomePlanet'].unique()"
   ]
  },
  {
   "cell_type": "markdown",
   "id": "445de51c",
   "metadata": {
    "papermill": {
     "duration": 0.02461,
     "end_time": "2025-08-06T05:04:44.722753",
     "exception": false,
     "start_time": "2025-08-06T05:04:44.698143",
     "status": "completed"
    },
    "tags": []
   },
   "source": [
    "The remaining missing values are replaced by the most frequent home planet (Earth)."
   ]
  },
  {
   "cell_type": "code",
   "execution_count": 17,
   "id": "4439cb7e",
   "metadata": {
    "execution": {
     "iopub.execute_input": "2025-08-06T05:04:44.773472Z",
     "iopub.status.busy": "2025-08-06T05:04:44.773090Z",
     "iopub.status.idle": "2025-08-06T05:04:45.358688Z",
     "shell.execute_reply": "2025-08-06T05:04:45.357678Z"
    },
    "papermill": {
     "duration": 0.612767,
     "end_time": "2025-08-06T05:04:45.360173",
     "exception": false,
     "start_time": "2025-08-06T05:04:44.747406",
     "status": "completed"
    },
    "tags": []
   },
   "outputs": [
    {
     "name": "stdout",
     "output_type": "stream",
     "text": [
      "There are 0 missing values for column HomePlanet\n"
     ]
    }
   ],
   "source": [
    "def solve_missingness_homeplanet(df:pd.DataFrame) -> pd.DataFrame:\n",
    "    \"\"\"\n",
    "    Function to replace missing values in the HomePlanet column.\n",
    "\n",
    "    Args:\n",
    "    - df (pd.DataFrame): DataFrame containing the HomePlanet column.\n",
    "    Returns:\n",
    "    - df (pd.DataFrame): DataFrame with missing values in HomePlanet replaced.\n",
    "    \"\"\"\n",
    "\n",
    "    # replace missing values for passengers belonging to groups with at least 2 passengers\n",
    "\n",
    "    # group of passenger\n",
    "    df['Group'] = df['PassengerId'].str.split('_', expand = True)[0]\n",
    "\n",
    "    # get home planet for each group\n",
    "    group_planet = df.groupby('Group')['HomePlanet'].unique()\n",
    "\n",
    "    for p in range(0, df.shape[0]):\n",
    "        # check if HomePlanet is missing and if the group has known HomePlanet values\n",
    "        if pd.isna(df.loc[p, 'HomePlanet']) and [y for y in group_planet[df.iloc[p]['Group']] if not pd.isna(y)]:\n",
    "            # replace missing value with the HomePlanet of the group\n",
    "            df.loc[p, 'HomePlanet'] = [y for y in group_planet[df.iloc[p]['Group']] if not pd.isna(y)][0]\n",
    "\n",
    "    # extract deck, num & side\n",
    "    df[['Deck', 'Num', 'Side']] = df['Cabin'].str.split('/', expand=True)\n",
    "    \n",
    "    # replace missing values according to Deck and VIP status\n",
    "    df.loc[(df['HomePlanet'].isna()) & (df['Deck'].isin(['A', 'B', 'C', 'T'])), 'HomePlanet'] = 'Europa'\n",
    "    df.loc[(df['HomePlanet'].isna()) & (df['Deck'] == 'G'), 'HomePlanet'] = 'Earth'\n",
    "    df.loc[(df['HomePlanet'].isna()) & (df['Deck'] == 'F') & (df['VIP'] == True), 'HomePlanet'] = 'Mars'\n",
    "\n",
    "    # replace missing values for passengers whose last name appears is shared by, at least, one more passenger\n",
    "\n",
    "    # extract last name\n",
    "    df[['GivenName', 'LastName']] = df['Name'].str.split(' ', expand=True)\n",
    "\n",
    "    # get home planet for each last name\n",
    "    LastName_planet = df.groupby('LastName')['HomePlanet'].unique()\n",
    "\n",
    "    for p in range(0, df.shape[0]):\n",
    "        # check if HomePlanet is missing, if the last name is not missing and if the last name has known HomePlanet values \n",
    "        if pd.isna(df.loc[p, 'HomePlanet']) and not pd.isna(df.loc[p, 'LastName']) and \\\n",
    "        [y for y in LastName_planet[df.iloc[p]['LastName']] if not pd.isna(y)]:\n",
    "            df.loc[p, 'HomePlanet'] = [y for y in LastName_planet[df.iloc[p]['LastName']] if not pd.isna(y)][0]\n",
    "\n",
    "    # remaining missing values are replaced by most common HomePlanet (Earth)\n",
    "    df.loc[df['HomePlanet'].isna(), 'HomePlanet'] = 'Earth'\n",
    "\n",
    "    return df\n",
    "\n",
    "df_train = solve_missingness_homeplanet(df_train)\n",
    "\n",
    "print(\"There are {} missing values for column HomePlanet\".format(df_train['HomePlanet'].isna().sum()))"
   ]
  },
  {
   "cell_type": "markdown",
   "id": "d1306436",
   "metadata": {
    "id": "3ETOLzWLBk7w",
    "papermill": {
     "duration": 0.02482,
     "end_time": "2025-08-06T05:04:45.410486",
     "exception": false,
     "start_time": "2025-08-06T05:04:45.385666",
     "status": "completed"
    },
    "tags": []
   },
   "source": [
    "### VIP"
   ]
  },
  {
   "cell_type": "markdown",
   "id": "57964790",
   "metadata": {
    "id": "fa0o2LcMChGa",
    "papermill": {
     "duration": 0.024467,
     "end_time": "2025-08-06T05:04:45.460220",
     "exception": false,
     "start_time": "2025-08-06T05:04:45.435753",
     "status": "completed"
    },
    "tags": []
   },
   "source": [
    "There are no passengers coming from planet earth who have VIP status. Moreover, there are no VIP passengers traveling from Mars to 55 Cancri."
   ]
  },
  {
   "cell_type": "code",
   "execution_count": 18,
   "id": "4a116f33",
   "metadata": {
    "execution": {
     "iopub.execute_input": "2025-08-06T05:04:45.511131Z",
     "iopub.status.busy": "2025-08-06T05:04:45.510326Z",
     "iopub.status.idle": "2025-08-06T05:04:45.522196Z",
     "shell.execute_reply": "2025-08-06T05:04:45.521134Z"
    },
    "id": "cd9FhgUwBmbw",
    "outputId": "36da282f-2af8-4875-9887-0f711f1eb31c",
    "papermill": {
     "duration": 0.038849,
     "end_time": "2025-08-06T05:04:45.523701",
     "exception": false,
     "start_time": "2025-08-06T05:04:45.484852",
     "status": "completed"
    },
    "tags": []
   },
   "outputs": [
    {
     "name": "stdout",
     "output_type": "stream",
     "text": [
      "                                count\n",
      "HomePlanet Destination   VIP         \n",
      "Earth      55 Cancri e   False    678\n",
      "           PSO J318.5-22 False    706\n",
      "           TRAPPIST-1e   False   3115\n",
      "Europa     55 Cancri e   False    823\n",
      "                         True      65\n",
      "           PSO J318.5-22 False      9\n",
      "                         True      10\n",
      "           TRAPPIST-1e   False   1132\n",
      "                         True      56\n",
      "Mars       55 Cancri e   False    191\n",
      "           PSO J318.5-22 False     41\n",
      "                         True       8\n",
      "           TRAPPIST-1e   False   1420\n",
      "                         True      58\n"
     ]
    }
   ],
   "source": [
    "print(df_train.groupby(['HomePlanet', 'Destination', 'VIP'])['PassengerId'].agg(['count']))"
   ]
  },
  {
   "cell_type": "markdown",
   "id": "2a29fc5e",
   "metadata": {
    "papermill": {
     "duration": 0.025079,
     "end_time": "2025-08-06T05:04:45.573771",
     "exception": false,
     "start_time": "2025-08-06T05:04:45.548692",
     "status": "completed"
    },
    "tags": []
   },
   "source": [
    "There are no more (at least that I was able to identify) relationships to infer missing values of $VIP$. Interestingly, the remaining missing values of $VIP$ have a high predictive power for $Transported$."
   ]
  },
  {
   "cell_type": "code",
   "execution_count": 19,
   "id": "2aed9b60",
   "metadata": {
    "execution": {
     "iopub.execute_input": "2025-08-06T05:04:45.625974Z",
     "iopub.status.busy": "2025-08-06T05:04:45.624974Z",
     "iopub.status.idle": "2025-08-06T05:04:45.643957Z",
     "shell.execute_reply": "2025-08-06T05:04:45.642957Z"
    },
    "papermill": {
     "duration": 0.047041,
     "end_time": "2025-08-06T05:04:45.645876",
     "exception": false,
     "start_time": "2025-08-06T05:04:45.598835",
     "status": "completed"
    },
    "tags": []
   },
   "outputs": [
    {
     "name": "stdout",
     "output_type": "stream",
     "text": [
      "There are 0 missing values for column VIP\n",
      "                     count\n",
      "VIP     Transported       \n",
      "False   False         4163\n",
      "        True          4250\n",
      "True    False          123\n",
      "        True            76\n",
      "Unknown False           29\n",
      "        True            52\n"
     ]
    }
   ],
   "source": [
    "def solve_missingness_vip(df:pd.DataFrame) -> pd.DataFrame:\n",
    "    \"\"\"\n",
    "    Function to replace missing values in the VIP column.\n",
    "\n",
    "    Args:\n",
    "    - df (pd.DataFrame): DataFrame containing the VIP column.\n",
    "    Returns:\n",
    "    - df (pd.DataFrame): DataFrame with missing values in VIP replaced.\n",
    "    \"\"\"\n",
    "\n",
    "    # replace missing values according to HomePlanet and Destination\n",
    "    df.loc[(df['HomePlanet'] == 'Earth') & (df['VIP'].isna()), 'VIP'] = False\n",
    "    df.loc[(df['HomePlanet'] == 'Mars') &  (df['Destination'] == '55 Cancri e') & (df['VIP'].isna()), 'VIP'] = False\n",
    "\n",
    "    # replace remaining missing values by Unknown\n",
    "    df['VIP'] = df['VIP'].fillna('Unknown')\n",
    "\n",
    "    return df\n",
    "\n",
    "df_train = solve_missingness_vip(df_train)\n",
    "\n",
    "print(\"There are {} missing values for column VIP\".format(df_train['VIP'].isna().sum()))\n",
    "\n",
    "print(df_train.groupby(['VIP', 'Transported'])['Transported'].agg(['count']))"
   ]
  },
  {
   "cell_type": "markdown",
   "id": "6dc77332",
   "metadata": {
    "id": "q9bl7KWs0wIB",
    "papermill": {
     "duration": 0.025606,
     "end_time": "2025-08-06T05:04:45.699777",
     "exception": false,
     "start_time": "2025-08-06T05:04:45.674171",
     "status": "completed"
    },
    "tags": []
   },
   "source": [
    "### CryoSleep"
   ]
  },
  {
   "cell_type": "markdown",
   "id": "0cbf6360",
   "metadata": {
    "id": "W2OlFIu9C2Eh",
    "papermill": {
     "duration": 0.02599,
     "end_time": "2025-08-06T05:04:45.751493",
     "exception": false,
     "start_time": "2025-08-06T05:04:45.725503",
     "status": "completed"
    },
    "tags": []
   },
   "source": [
    "Passengers that spend money (as it is logical) do not CryoSleep."
   ]
  },
  {
   "cell_type": "code",
   "execution_count": 20,
   "id": "fa516170",
   "metadata": {
    "execution": {
     "iopub.execute_input": "2025-08-06T05:04:45.804340Z",
     "iopub.status.busy": "2025-08-06T05:04:45.803957Z",
     "iopub.status.idle": "2025-08-06T05:04:45.816234Z",
     "shell.execute_reply": "2025-08-06T05:04:45.814995Z"
    },
    "id": "cIZBmdsICGug",
    "outputId": "cd9d1e14-7028-4bf4-c54e-1590430115fa",
    "papermill": {
     "duration": 0.040762,
     "end_time": "2025-08-06T05:04:45.818040",
     "exception": false,
     "start_time": "2025-08-06T05:04:45.777278",
     "status": "completed"
    },
    "tags": []
   },
   "outputs": [
    {
     "name": "stdout",
     "output_type": "stream",
     "text": [
      "There are 0 observations with total expenditure > 0 and CryoSleep == True\n"
     ]
    }
   ],
   "source": [
    "# create feature with total expenditure\n",
    "df_train['TotalExpenditure'] = df_train[exp_feats].sum(axis = 1)\n",
    "\n",
    "n = df_train.loc[(df_train['TotalExpenditure'] > 0) & (df_train['CryoSleep'] == True)].shape[0]\n",
    "print('There are', n, 'observations with total expenditure > 0 and CryoSleep == True')"
   ]
  },
  {
   "cell_type": "markdown",
   "id": "0369ecfe",
   "metadata": {
    "id": "Sq7_uVNaAiAE",
    "papermill": {
     "duration": 0.024931,
     "end_time": "2025-08-06T05:04:45.868247",
     "exception": false,
     "start_time": "2025-08-06T05:04:45.843316",
     "status": "completed"
    },
    "tags": []
   },
   "source": [
    "Most VIP passengers do not cryosleep (~90% likelihood in our sample)."
   ]
  },
  {
   "cell_type": "code",
   "execution_count": 21,
   "id": "a49a94e8",
   "metadata": {
    "execution": {
     "iopub.execute_input": "2025-08-06T05:04:45.919720Z",
     "iopub.status.busy": "2025-08-06T05:04:45.918888Z",
     "iopub.status.idle": "2025-08-06T05:04:45.929261Z",
     "shell.execute_reply": "2025-08-06T05:04:45.928113Z"
    },
    "id": "Y3BCvloS-O5p",
    "outputId": "528f0031-2295-4bd8-afc2-59405f4e5459",
    "papermill": {
     "duration": 0.037628,
     "end_time": "2025-08-06T05:04:45.930714",
     "exception": false,
     "start_time": "2025-08-06T05:04:45.893086",
     "status": "completed"
    },
    "tags": []
   },
   "outputs": [
    {
     "name": "stdout",
     "output_type": "stream",
     "text": [
      "VIP      CryoSleep\n",
      "False    False        5219\n",
      "         True         2981\n",
      "True     False         175\n",
      "         True           21\n",
      "Unknown  False          45\n",
      "         True           35\n",
      "Name: PassengerId, dtype: int64\n"
     ]
    }
   ],
   "source": [
    "print(df_train.groupby(['VIP', 'CryoSleep'])['PassengerId'].agg('count'))"
   ]
  },
  {
   "cell_type": "markdown",
   "id": "7fc02086",
   "metadata": {
    "id": "2SwKXa3VECIZ",
    "papermill": {
     "duration": 0.02489,
     "end_time": "2025-08-06T05:04:45.980809",
     "exception": false,
     "start_time": "2025-08-06T05:04:45.955919",
     "status": "completed"
    },
    "tags": []
   },
   "source": [
    "Most passengers that do not spend any money do not cryosleep (> 80% likelihood)."
   ]
  },
  {
   "cell_type": "code",
   "execution_count": 22,
   "id": "a0ecbf28",
   "metadata": {
    "execution": {
     "iopub.execute_input": "2025-08-06T05:04:46.034545Z",
     "iopub.status.busy": "2025-08-06T05:04:46.033483Z",
     "iopub.status.idle": "2025-08-06T05:04:46.046075Z",
     "shell.execute_reply": "2025-08-06T05:04:46.045048Z"
    },
    "id": "7XcZkdoADDB3",
    "outputId": "b3ecddc0-c861-45bf-aaa3-8f2de74bf365",
    "papermill": {
     "duration": 0.041037,
     "end_time": "2025-08-06T05:04:46.047808",
     "exception": false,
     "start_time": "2025-08-06T05:04:46.006771",
     "status": "completed"
    },
    "tags": []
   },
   "outputs": [
    {
     "name": "stdout",
     "output_type": "stream",
     "text": [
      "CryoSleep\n",
      "False     518\n",
      "True     3037\n",
      "Name: CryoSleep, dtype: int64\n"
     ]
    }
   ],
   "source": [
    "print(df_train.loc[(df_train['TotalExpenditure'] == 0)].groupby('CryoSleep')['CryoSleep'].agg('count'))"
   ]
  },
  {
   "cell_type": "code",
   "execution_count": 23,
   "id": "9e227dc2",
   "metadata": {
    "execution": {
     "iopub.execute_input": "2025-08-06T05:04:46.101616Z",
     "iopub.status.busy": "2025-08-06T05:04:46.101283Z",
     "iopub.status.idle": "2025-08-06T05:04:46.118057Z",
     "shell.execute_reply": "2025-08-06T05:04:46.117069Z"
    },
    "papermill": {
     "duration": 0.045716,
     "end_time": "2025-08-06T05:04:46.119655",
     "exception": false,
     "start_time": "2025-08-06T05:04:46.073939",
     "status": "completed"
    },
    "tags": []
   },
   "outputs": [
    {
     "name": "stdout",
     "output_type": "stream",
     "text": [
      "There are 0 missing values for column CryoSleep\n"
     ]
    }
   ],
   "source": [
    "def solve_missingness_CryoSleep(df:pd.DataFrame) -> pd.DataFrame:\n",
    "    \"\"\"\n",
    "    Function to replace missing values in the CryoSleep column.\n",
    "\n",
    "    Args:\n",
    "    - df (pd.DataFrame): DataFrame containing the CryoSleep column.\n",
    "    Returns:\n",
    "    - df (pd.DataFrame): DataFrame with missing values in CryoSleep replaced.\n",
    "    \"\"\"\n",
    "\n",
    "    # replace missing values according to TotalExpenditure\n",
    "\n",
    "    # create feature with total expenditure\n",
    "    df['TotalExpenditure'] = df[exp_feats].sum(axis = 1)\n",
    "\n",
    "    # replace missing values with False if total expenditure is greater than 0\n",
    "    df.loc[(df['TotalExpenditure'] > 0) & (df['CryoSleep'].isna()), 'CryoSleep'] = False\n",
    "\n",
    "    # replace missing values based on VIP status\n",
    "    df.loc[(df['VIP'] == True) & (df['CryoSleep'].isna()), 'CryoSleep'] = False\n",
    "\n",
    "    # replace missing values based on total expenditure\n",
    "    df.loc[(df['TotalExpenditure'] == 0) & (df['CryoSleep'].isna()), 'CryoSleep'] = True\n",
    "\n",
    "    # replace any remaining missing values (if there are) with most common value (False)\n",
    "    df['CryoSleep'] = df['CryoSleep'].fillna(False)\n",
    "\n",
    "    return df\n",
    "\n",
    "df_train = solve_missingness_CryoSleep(df_train)\n",
    "\n",
    "print(\"There are {} missing values for column CryoSleep\".format(df_train['CryoSleep'].isna().sum()))"
   ]
  },
  {
   "cell_type": "markdown",
   "id": "c811bbd7",
   "metadata": {
    "id": "gONDFTbVEBSU",
    "papermill": {
     "duration": 0.025418,
     "end_time": "2025-08-06T05:04:46.170844",
     "exception": false,
     "start_time": "2025-08-06T05:04:46.145426",
     "status": "completed"
    },
    "tags": []
   },
   "source": [
    "### Destination"
   ]
  },
  {
   "cell_type": "markdown",
   "id": "078482a6",
   "metadata": {
    "papermill": {
     "duration": 0.033255,
     "end_time": "2025-08-06T05:04:46.232554",
     "exception": false,
     "start_time": "2025-08-06T05:04:46.199299",
     "status": "completed"
    },
    "tags": []
   },
   "source": [
    "No clear relations were found to extrapolate missing values. Missing values will form a new category."
   ]
  },
  {
   "cell_type": "code",
   "execution_count": 24,
   "id": "52fcf85e",
   "metadata": {
    "execution": {
     "iopub.execute_input": "2025-08-06T05:04:46.295269Z",
     "iopub.status.busy": "2025-08-06T05:04:46.294665Z",
     "iopub.status.idle": "2025-08-06T05:04:46.302595Z",
     "shell.execute_reply": "2025-08-06T05:04:46.301705Z"
    },
    "id": "44xZGInFbkDH",
    "papermill": {
     "duration": 0.038921,
     "end_time": "2025-08-06T05:04:46.303896",
     "exception": false,
     "start_time": "2025-08-06T05:04:46.264975",
     "status": "completed"
    },
    "tags": []
   },
   "outputs": [
    {
     "name": "stdout",
     "output_type": "stream",
     "text": [
      "There are 0 missing values for column Destination\n"
     ]
    }
   ],
   "source": [
    "def solve_missingness_Destination(df:pd.DataFrame) -> pd.DataFrame:\n",
    "    \"\"\"\n",
    "    Function to replace missing values in the Destination column.\n",
    "\n",
    "    Args:\n",
    "    - df (pd.DataFrame): DataFrame containing the Destination column.\n",
    "    Returns:\n",
    "    - df (pd.DataFrame): DataFrame with missing values in Destination replaced.\n",
    "    \"\"\"\n",
    "\n",
    "    # replace missing values with label 'Unknown'\n",
    "    df['Destination'] = df['Destination'].fillna('Unknown')\n",
    "\n",
    "    return df\n",
    "\n",
    "df_train = solve_missingness_Destination(df_train)\n",
    "\n",
    "print(\"There are {} missing values for column Destination\".format(df_train['Destination'].isna().sum()))"
   ]
  },
  {
   "cell_type": "markdown",
   "id": "32f2869c",
   "metadata": {
    "papermill": {
     "duration": 0.024816,
     "end_time": "2025-08-06T05:04:46.353931",
     "exception": false,
     "start_time": "2025-08-06T05:04:46.329115",
     "status": "completed"
    },
    "tags": []
   },
   "source": [
    "### Side & Deck (Cabin)"
   ]
  },
  {
   "cell_type": "markdown",
   "id": "0ad79e93",
   "metadata": {
    "papermill": {
     "duration": 0.024785,
     "end_time": "2025-08-06T05:04:46.404266",
     "exception": false,
     "start_time": "2025-08-06T05:04:46.379481",
     "status": "completed"
    },
    "tags": []
   },
   "source": [
    "For passengers who travel in groups, missing ship side can be filled by the side of the group since groups always travel in the same side of the ship."
   ]
  },
  {
   "cell_type": "code",
   "execution_count": 25,
   "id": "ae869b45",
   "metadata": {
    "execution": {
     "iopub.execute_input": "2025-08-06T05:04:46.455341Z",
     "iopub.status.busy": "2025-08-06T05:04:46.455029Z",
     "iopub.status.idle": "2025-08-06T05:04:46.466706Z",
     "shell.execute_reply": "2025-08-06T05:04:46.465885Z"
    },
    "papermill": {
     "duration": 0.038892,
     "end_time": "2025-08-06T05:04:46.468044",
     "exception": false,
     "start_time": "2025-08-06T05:04:46.429152",
     "status": "completed"
    },
    "tags": []
   },
   "outputs": [
    {
     "name": "stdout",
     "output_type": "stream",
     "text": [
      "There are 0 groups with more than one ship side.\n"
     ]
    }
   ],
   "source": [
    "# number of (Cabin) Sides by Group\n",
    "print(\"There are\", sum(df_train.groupby(['Group'])['Side'].nunique() > 1),\n",
    "      \"groups with more than one ship side.\")"
   ]
  },
  {
   "cell_type": "markdown",
   "id": "21bc4c42",
   "metadata": {
    "papermill": {
     "duration": 0.025112,
     "end_time": "2025-08-06T05:04:46.518355",
     "exception": false,
     "start_time": "2025-08-06T05:04:46.493243",
     "status": "completed"
    },
    "tags": []
   },
   "source": [
    "No more relationships have been found. The remaining missing values will make a new category 'Unknown'. "
   ]
  },
  {
   "cell_type": "code",
   "execution_count": 26,
   "id": "dedcc772",
   "metadata": {
    "execution": {
     "iopub.execute_input": "2025-08-06T05:04:46.571083Z",
     "iopub.status.busy": "2025-08-06T05:04:46.569713Z",
     "iopub.status.idle": "2025-08-06T05:04:47.229716Z",
     "shell.execute_reply": "2025-08-06T05:04:47.228671Z"
    },
    "papermill": {
     "duration": 0.687838,
     "end_time": "2025-08-06T05:04:47.231252",
     "exception": false,
     "start_time": "2025-08-06T05:04:46.543414",
     "status": "completed"
    },
    "tags": []
   },
   "outputs": [
    {
     "name": "stdout",
     "output_type": "stream",
     "text": [
      "There are 0 missing values for column Side\n"
     ]
    }
   ],
   "source": [
    "def solve_missingness_Side(df:pd.DataFrame) -> pd.DataFrame:\n",
    "    \"\"\"\n",
    "    Function to replace missing values in the Side column.\n",
    "\n",
    "    Args:\n",
    "    - df (pd.DataFrame): DataFrame containing the Side column.\n",
    "    Returns:\n",
    "    - df (pd.DataFrame): DataFrame with missing values in Side replaced.\n",
    "    \"\"\"\n",
    "\n",
    "    # replace missing values according to the passenger's group deck\n",
    "    side_mode = df.groupby('Group')['Side'].transform(lambda x: statistics.mode(x))\n",
    "    \n",
    "    df['Side'] = df['Side'].fillna(side_mode)\n",
    "\n",
    "    # replace remaining missing values by \"Unkown\"\n",
    "    df['Side'] = df['Side'].fillna('Unknown')\n",
    "\n",
    "    return df\n",
    "\n",
    "df_train = solve_missingness_Side(df_train)\n",
    "\n",
    "print(\"There are {} missing values for column Side\".format(df_train['Side'].isna().sum()))\n"
   ]
  },
  {
   "cell_type": "markdown",
   "id": "be349b98",
   "metadata": {
    "papermill": {
     "duration": 0.025299,
     "end_time": "2025-08-06T05:04:47.282421",
     "exception": false,
     "start_time": "2025-08-06T05:04:47.257122",
     "status": "completed"
    },
    "tags": []
   },
   "source": [
    "No relationships found for $Deck$, missing values will be replaced by 'Unknown'. "
   ]
  },
  {
   "cell_type": "code",
   "execution_count": 27,
   "id": "5b7667f0",
   "metadata": {
    "execution": {
     "iopub.execute_input": "2025-08-06T05:04:47.333897Z",
     "iopub.status.busy": "2025-08-06T05:04:47.333613Z",
     "iopub.status.idle": "2025-08-06T05:04:47.341839Z",
     "shell.execute_reply": "2025-08-06T05:04:47.340807Z"
    },
    "papermill": {
     "duration": 0.035534,
     "end_time": "2025-08-06T05:04:47.343196",
     "exception": false,
     "start_time": "2025-08-06T05:04:47.307662",
     "status": "completed"
    },
    "tags": []
   },
   "outputs": [
    {
     "name": "stdout",
     "output_type": "stream",
     "text": [
      "There are 0 missing values for column Deck\n"
     ]
    }
   ],
   "source": [
    "def solve_missingness_Deck(df:pd.DataFrame) -> pd.DataFrame:\n",
    "    \"\"\"\n",
    "    Function to replace missing values in the Deck column.\n",
    "\n",
    "    Args:\n",
    "    - df (pd.DataFrame): DataFrame containing the Deck column.\n",
    "    Returns:\n",
    "    - df (pd.DataFrame): DataFrame with missing values in Deck replaced.\n",
    "    \"\"\"\n",
    "\n",
    "    # replace missing values by \"Unkown\"\n",
    "    df['Deck'] = df['Deck'].fillna('Unknown')\n",
    "\n",
    "    return df\n",
    "\n",
    "df_train = solve_missingness_Deck(df_train)\n",
    "\n",
    "print(\"There are {} missing values for column Deck\".format(df_train['Deck'].isna().sum()))"
   ]
  },
  {
   "cell_type": "markdown",
   "id": "918617cb",
   "metadata": {
    "papermill": {
     "duration": 0.02484,
     "end_time": "2025-08-06T05:04:47.393426",
     "exception": false,
     "start_time": "2025-08-06T05:04:47.368586",
     "status": "completed"
    },
    "tags": []
   },
   "source": [
    "### Age"
   ]
  },
  {
   "cell_type": "markdown",
   "id": "a2fa0008",
   "metadata": {
    "papermill": {
     "duration": 0.025006,
     "end_time": "2025-08-06T05:04:47.443628",
     "exception": false,
     "start_time": "2025-08-06T05:04:47.418622",
     "status": "completed"
    },
    "tags": []
   },
   "source": [
    "There are variations in the median age depending on the values of $HomePlanet$, $Destination$, $VIP$ and $CryoSleep$. That information will be used to extrapolate $Age$'s missing values."
   ]
  },
  {
   "cell_type": "code",
   "execution_count": 28,
   "id": "0f9bbdcc",
   "metadata": {
    "execution": {
     "iopub.execute_input": "2025-08-06T05:04:47.495738Z",
     "iopub.status.busy": "2025-08-06T05:04:47.494953Z",
     "iopub.status.idle": "2025-08-06T05:04:47.508645Z",
     "shell.execute_reply": "2025-08-06T05:04:47.507821Z"
    },
    "papermill": {
     "duration": 0.041322,
     "end_time": "2025-08-06T05:04:47.510138",
     "exception": false,
     "start_time": "2025-08-06T05:04:47.468816",
     "status": "completed"
    },
    "tags": []
   },
   "outputs": [
    {
     "data": {
      "text/plain": [
       "HomePlanet  Destination    VIP      CryoSleep\n",
       "Earth       55 Cancri e    False    False        23.0\n",
       "                                    True         18.0\n",
       "            PSO J318.5-22  False    False        25.0\n",
       "                                    True         22.0\n",
       "            TRAPPIST-1e    False    False        24.0\n",
       "                                    True         21.0\n",
       "            Unknown        False    False        23.0\n",
       "                                    True         21.5\n",
       "Europa      55 Cancri e    False    False        34.0\n",
       "                                    True         30.0\n",
       "                           True     False        36.0\n",
       "                                    True         31.5\n",
       "                           Unknown  False        31.5\n",
       "                                    True         34.0\n",
       "            PSO J318.5-22  False    True         32.0\n",
       "                           True     False        35.0\n",
       "            TRAPPIST-1e    False    False        33.0\n",
       "                                    True         30.0\n",
       "                           True     False        33.0\n",
       "                                    True         31.0\n",
       "                           Unknown  False        31.0\n",
       "                                    True         32.0\n",
       "            Unknown        False    False        36.0\n",
       "                                    True         33.0\n",
       "                           True     False        47.5\n",
       "Mars        55 Cancri e    False    False        24.0\n",
       "                                    True         26.5\n",
       "            PSO J318.5-22  False    False        35.0\n",
       "                                    True         38.0\n",
       "                           True     False        33.0\n",
       "                           Unknown  False        44.0\n",
       "                                    True         45.0\n",
       "            TRAPPIST-1e    False    False        28.0\n",
       "                                    True         27.0\n",
       "                           True     False        32.0\n",
       "                           Unknown  False        30.0\n",
       "                                    True         34.0\n",
       "            Unknown        False    False        31.0\n",
       "                                    True         33.0\n",
       "Name: Age, dtype: float64"
      ]
     },
     "execution_count": 28,
     "metadata": {},
     "output_type": "execute_result"
    }
   ],
   "source": [
    "df_train.groupby(['HomePlanet', 'Destination', 'VIP', 'CryoSleep'])['Age'].median()"
   ]
  },
  {
   "cell_type": "code",
   "execution_count": 29,
   "id": "fbe463db",
   "metadata": {
    "execution": {
     "iopub.execute_input": "2025-08-06T05:04:47.563587Z",
     "iopub.status.busy": "2025-08-06T05:04:47.562963Z",
     "iopub.status.idle": "2025-08-06T05:04:47.573779Z",
     "shell.execute_reply": "2025-08-06T05:04:47.572835Z"
    },
    "papermill": {
     "duration": 0.038829,
     "end_time": "2025-08-06T05:04:47.575223",
     "exception": false,
     "start_time": "2025-08-06T05:04:47.536394",
     "status": "completed"
    },
    "tags": []
   },
   "outputs": [
    {
     "name": "stdout",
     "output_type": "stream",
     "text": [
      "There are 0 missing values for column Age\n"
     ]
    }
   ],
   "source": [
    "def solve_missingness_Age(df:pd.DataFrame) -> pd.DataFrame:\n",
    "    \"\"\"\n",
    "    Function to replace missing values in the Age column.\n",
    "\n",
    "    Args:\n",
    "    - df (pd.DataFrame): DataFrame containing the Age column.\n",
    "    Returns:\n",
    "    - df (pd.DataFrame): DataFrame with missing values in Age replaced.\n",
    "    \"\"\"\n",
    "\n",
    "    # obtain median age grouping by HomePlanet, Destination, VIP, CryoSleep\n",
    "    median_age = df.groupby(['HomePlanet', 'Destination', 'VIP', 'CryoSleep'])['Age'].transform('median')\n",
    "\n",
    "    # fill missing values\n",
    "    df['Age'] = df['Age'].fillna(median_age)\n",
    "\n",
    "    return df\n",
    "\n",
    "df_train = solve_missingness_Age(df_train)\n",
    "\n",
    "print(\"There are {} missing values for column Age\".format(df_train['Age'].isna().sum()))"
   ]
  },
  {
   "cell_type": "markdown",
   "id": "cad86e94",
   "metadata": {
    "id": "1V6R5Vwl4Zu1",
    "papermill": {
     "duration": 0.025358,
     "end_time": "2025-08-06T05:04:47.626534",
     "exception": false,
     "start_time": "2025-08-06T05:04:47.601176",
     "status": "completed"
    },
    "tags": []
   },
   "source": [
    "### Expenditure variables (RoomService, FoodCourt, ShoppingMall, Spa, VRDeck)"
   ]
  },
  {
   "cell_type": "markdown",
   "id": "18e24e81",
   "metadata": {
    "id": "okpYjxafq4H9",
    "papermill": {
     "duration": 0.02557,
     "end_time": "2025-08-06T05:04:47.677613",
     "exception": false,
     "start_time": "2025-08-06T05:04:47.652043",
     "status": "completed"
    },
    "tags": []
   },
   "source": [
    "Kids up to 12 years old do not expend any amount of money. Thus, whenever Age <= 12, missing values in any of the expenditure variables can be replaced by 0."
   ]
  },
  {
   "cell_type": "code",
   "execution_count": 30,
   "id": "1d3665b8",
   "metadata": {
    "execution": {
     "iopub.execute_input": "2025-08-06T05:04:47.730395Z",
     "iopub.status.busy": "2025-08-06T05:04:47.730112Z",
     "iopub.status.idle": "2025-08-06T05:04:47.941010Z",
     "shell.execute_reply": "2025-08-06T05:04:47.940198Z"
    },
    "id": "D9rHbhF2poEG",
    "outputId": "af65523d-8a05-40aa-bde2-79a3a48c7556",
    "papermill": {
     "duration": 0.239575,
     "end_time": "2025-08-06T05:04:47.942647",
     "exception": false,
     "start_time": "2025-08-06T05:04:47.703072",
     "status": "completed"
    },
    "tags": []
   },
   "outputs": [
    {
     "data": {
      "text/plain": [
       "Text(0.5, 1.0, 'Average expenditure by Age')"
      ]
     },
     "execution_count": 30,
     "metadata": {},
     "output_type": "execute_result"
    },
    {
     "data": {
      "image/png": "[encoded data removed]",
      "text/plain": [
       "<Figure size 640x480 with 1 Axes>"
      ]
     },
     "metadata": {},
     "output_type": "display_data"
    }
   ],
   "source": [
    "# create TotalExpenditure as the sum of the expenditure in each expenditure variable\n",
    "df_train['TotalExpenditure'] = df_train[exp_feats].sum(axis = 1)\n",
    "\n",
    "x = df_train.groupby('Age')['TotalExpenditure'].agg('mean').plot()\n",
    "x.set_title(\"Average expenditure by Age\")"
   ]
  },
  {
   "cell_type": "markdown",
   "id": "fcba1380",
   "metadata": {
    "id": "uclT7BKXtiu8",
    "papermill": {
     "duration": 0.027151,
     "end_time": "2025-08-06T05:04:47.996383",
     "exception": false,
     "start_time": "2025-08-06T05:04:47.969232",
     "status": "completed"
    },
    "tags": []
   },
   "source": [
    "A passenger who cryosleeps during the travel does not spend any money (as expected) on any of the expenditure features."
   ]
  },
  {
   "cell_type": "code",
   "execution_count": 31,
   "id": "c8abeb89",
   "metadata": {
    "execution": {
     "iopub.execute_input": "2025-08-06T05:04:48.052521Z",
     "iopub.status.busy": "2025-08-06T05:04:48.051753Z",
     "iopub.status.idle": "2025-08-06T05:04:48.060085Z",
     "shell.execute_reply": "2025-08-06T05:04:48.059303Z"
    },
    "papermill": {
     "duration": 0.037578,
     "end_time": "2025-08-06T05:04:48.061617",
     "exception": false,
     "start_time": "2025-08-06T05:04:48.024039",
     "status": "completed"
    },
    "tags": []
   },
   "outputs": [
    {
     "data": {
      "text/plain": [
       "CryoSleep\n",
       "False    2253.589601\n",
       "True        0.000000\n",
       "Name: TotalExpenditure, dtype: float64"
      ]
     },
     "execution_count": 31,
     "metadata": {},
     "output_type": "execute_result"
    }
   ],
   "source": [
    "df_train.groupby('CryoSleep')['TotalExpenditure'].agg('mean')"
   ]
  },
  {
   "cell_type": "markdown",
   "id": "9e254dcd",
   "metadata": {
    "id": "gRgwa0HozZOT",
    "papermill": {
     "duration": 0.033834,
     "end_time": "2025-08-06T05:04:48.123008",
     "exception": false,
     "start_time": "2025-08-06T05:04:48.089174",
     "status": "completed"
    },
    "tags": []
   },
   "source": [
    "The remaining missing values are replaced by the median value according to the passenger's values for HomePlanet, Destination and VIP."
   ]
  },
  {
   "cell_type": "code",
   "execution_count": 32,
   "id": "f3de4149",
   "metadata": {
    "execution": {
     "iopub.execute_input": "2025-08-06T05:04:48.179141Z",
     "iopub.status.busy": "2025-08-06T05:04:48.178570Z",
     "iopub.status.idle": "2025-08-06T05:04:48.208652Z",
     "shell.execute_reply": "2025-08-06T05:04:48.207789Z"
    },
    "papermill": {
     "duration": 0.059583,
     "end_time": "2025-08-06T05:04:48.210057",
     "exception": false,
     "start_time": "2025-08-06T05:04:48.150474",
     "status": "completed"
    },
    "tags": []
   },
   "outputs": [
    {
     "name": "stdout",
     "output_type": "stream",
     "text": [
      "There are the following missing values for expenditure variables:\n",
      "\n",
      "RoomService     0\n",
      "FoodCourt       0\n",
      "ShoppingMall    0\n",
      "Spa             0\n",
      "VRDeck          0\n",
      "dtype: int64\n"
     ]
    }
   ],
   "source": [
    "def solve_missingness_expenditure_variables(df:pd.DataFrame) -> pd.DataFrame:\n",
    "    \"\"\"\n",
    "    Function to replace missing values in the expenditure columns (RoomService, FoodCourt, ShoppingMall, Spa, VRDeck).\n",
    "\n",
    "    Args:\n",
    "    - df (pd.DataFrame): DataFrame containing the expenditure columns.\n",
    "    Returns:\n",
    "    - df (pd.DataFrame): DataFrame with missing values in expenditure columns replaced.\n",
    "    \"\"\"\n",
    "\n",
    "    # replace missing values for passengers aged <= 12 by 0\n",
    "    df.loc[(df['Age'] <= 12), exp_feats] = 0\n",
    "\n",
    "    # replace missing values for passengers with CryoSleep == True by 0\n",
    "    df.loc[df['CryoSleep'] == True, exp_feats] = 0\n",
    "\n",
    "    # replace missing values according to HomePlanet, Destination, VIP and Age\n",
    "    mask = (df['Age'] > 12) & (df['CryoSleep'] == False)\n",
    "    median = df.loc[mask].groupby(['HomePlanet', 'Destination', 'VIP'])[exp_feats].transform('median')\n",
    "    df.loc[mask, exp_feats] = df.loc[mask, exp_feats].fillna(median)\n",
    "\n",
    "    # any remaining missing value is replaced by 0\n",
    "    df[exp_feats] = df[exp_feats].fillna(0)\n",
    "\n",
    "    return df\n",
    "\n",
    "df_train = solve_missingness_expenditure_variables(df_train)\n",
    "\n",
    "print(\"There are the following missing values for expenditure variables:\\n\")\n",
    "print(df_train[exp_feats].isna().sum().sort_values(ascending=False))"
   ]
  },
  {
   "cell_type": "markdown",
   "id": "59811d6f",
   "metadata": {
    "id": "VVCcP4dZKRLC",
    "papermill": {
     "duration": 0.026959,
     "end_time": "2025-08-06T05:04:48.266096",
     "exception": false,
     "start_time": "2025-08-06T05:04:48.239137",
     "status": "completed"
    },
    "tags": []
   },
   "source": [
    "## Feature engineering"
   ]
  },
  {
   "cell_type": "markdown",
   "id": "29a972e9",
   "metadata": {
    "papermill": {
     "duration": 0.026841,
     "end_time": "2025-08-06T05:04:48.320212",
     "exception": false,
     "start_time": "2025-08-06T05:04:48.293371",
     "status": "completed"
    },
    "tags": []
   },
   "source": [
    "The following variables will be created:\n",
    "\n",
    "| Variable | Source | Comment |\n",
    "| -------- | ------- | ------- |\n",
    "| $SoleTraveller$  | $PassengerId$    | Indicates whether the passenger is travelling alone or not |\n",
    "| $Age4$, $Age18$, $Age25$, $Age40$, $AgeOld$ | $Age$ | Each dummy represents an interval (0-4 years old, 5-18 years old...) |\n",
    "| $AgeSq$, $AgeCu$ | $Age$ | Higher order terms |\n",
    "| $ExpenditureDummy$ | $RoomService$, $Spa$, $VRDeck$, $FoodCourt$, $ShoppingMall$ | Dummy indicating whether the passenger spent money on at least one amenity |\n",
    "| $RoomServiceSq$, $RoomServiceCu$ | $RoomService$ | Higher order terms |\n",
    "| $SpaSq$, $SpaCu$ | $Spa$ | Higher order terms |\n",
    "| $VRDeckSq$, $VRDeckCu$ | $VRDeck$ | Higher order terms |\n",
    "| $FoodCourtSq$, $FoodCourtCu$ | $FoodCourt$ | Higher order terms |\n",
    "| $ShoppingMallSq$, $ShoppingMallCu$ | $ShoppingMall$ | Higher order terms |\n",
    "| $Deck$ | $Cabin$ | Indicates the Deck the cabin is located |\n",
    "| $Side$ | $Cabin$ | Indicates the Side the cabin is located |\n",
    "| $MultipleMissing$ | | Indicates whether more than one variable is missing for the passenger |\n",
    "\n",
    "Additionally, these variables will be deleted due to their lack of explanatory power / impossibility of inclusion / redundancy:\n",
    "\n",
    "| Variable |\n",
    "| -------- |\n",
    "| $PassengerId$ |\n",
    "| $Cabin$ |\n",
    "| $Name$ |\n",
    "| $Num$ |\n",
    "| $GivenName$ |\n",
    "| $LastName$ |\n",
    "| $Group$ |\n",
    "\n",
    "Finally, the following categorical variables will be encoded using one-hot encoding:\n",
    "\n",
    "| Variable |\n",
    "| -------- |\n",
    "| $HomePlanet$ |\n",
    "| $CryoSleep$ |\n",
    "| $Destination$ |\n",
    "| $VIP$ |\n",
    "| $Deck$ |\n",
    "| $Side$ |"
   ]
  },
  {
   "cell_type": "code",
   "execution_count": 33,
   "id": "4ae9fa8e",
   "metadata": {
    "execution": {
     "iopub.execute_input": "2025-08-06T05:04:48.376781Z",
     "iopub.status.busy": "2025-08-06T05:04:48.376022Z",
     "iopub.status.idle": "2025-08-06T05:04:48.466076Z",
     "shell.execute_reply": "2025-08-06T05:04:48.465188Z"
    },
    "papermill": {
     "duration": 0.11984,
     "end_time": "2025-08-06T05:04:48.467775",
     "exception": false,
     "start_time": "2025-08-06T05:04:48.347935",
     "status": "completed"
    },
    "tags": []
   },
   "outputs": [],
   "source": [
    "def create_features(df:pd.DataFrame) -> pd.DataFrame:\n",
    "    \"\"\"\n",
    "    Function to create new features.\n",
    "\n",
    "    Args:\n",
    "    - df (pd.DataFrame): DataFrame containing all the \"source\" columns.\n",
    "\n",
    "    Returns:\n",
    "    - df (pd.DataFrame): DataFrame containing all the original columns + new features.\n",
    "    \"\"\"\n",
    "\n",
    "    # GroupSize\n",
    "    df['Group'] = df['PassengerId'].str.split('_', expand = True)[0]\n",
    "    df['GroupSize'] = df.groupby('Group')['Group'].transform('count')\n",
    "    df['SoleTraveller'] = (df['GroupSize'] == 1).astype(int)\n",
    "    df.drop('GroupSize', axis=1, inplace=True)\n",
    "\n",
    "    # Age4, Age18, Age25, Age40, AgeOld\n",
    "    df['Age4'] = (df['Age'] <= 4).astype(int)\n",
    "    df['Age18'] = ((df['Age'] > 4) & (df['Age'] <= 18)).astype(int)\n",
    "    df['Age25'] = ((df['Age'] > 18) & (df['Age'] <= 25)).astype(int)\n",
    "    df['Age40'] = ((df['Age'] > 25) & (df['Age'] <= 40)).astype(int)\n",
    "    df['AgeOld'] = (df['Age'] > 40).astype(int)\n",
    "\n",
    "    # AgeSq, AgeCu\n",
    "    df['AgeSq'] = df['Age'] ** 2\n",
    "    df['AgeCu'] = df['Age'] ** 3\n",
    "    \n",
    "    # RoomServiceDummy, FoodCourtDummy, ShoppingMallDummy, SpaDummy, VRDeckDummy\n",
    "    df['ExpenditureDummy'] = df[exp_feats].sum(axis = 1) > 0\n",
    "    \n",
    "    # RoomServiceSq, RoomServiceCu\n",
    "    df['RoomServiceSq'] = df['RoomService'] ** 2\n",
    "    df['RoomServiceCu'] = df['RoomService'] ** 3\n",
    "\n",
    "    # FoodCourtSq, FoodCourtCu\n",
    "    df['FoodCourtSq'] = df['FoodCourt'] ** 2\n",
    "    df['FoodCourtCu'] = df['FoodCourt'] ** 3\n",
    "\n",
    "    # ShoppingMallSq, ShoppingMallCu\n",
    "    df['ShoppingMallSq'] = df['ShoppingMall'] ** 2\n",
    "    df['ShoppingMallCu'] = df['ShoppingMall'] ** 3\n",
    "\n",
    "    # SpaSq, SpaCu \n",
    "    df['SpaSq'] = df['Spa'] ** 2\n",
    "    df['SpaCu'] = df['Spa'] ** 3\n",
    "\n",
    "    # VRDeckSq, VRDeckCu\n",
    "    df['VRDeckSq'] = df['VRDeck'] ** 2\n",
    "    df['VRDeckCu'] = df['VRDeck'] ** 3\n",
    "\n",
    "    # Deck, Side\n",
    "    df[['Deck', 'Num', 'Side']] = df['Cabin'].str.split('/', expand=True)\n",
    "\n",
    "    # MultipleMissing\n",
    "    df['MultipleMissing'] = (df.isna().sum(axis=1) > 1).astype(int)\n",
    "\n",
    "    return df\n",
    "\n",
    "def delete_Variables(df: pd.DataFrame) -> pd.DataFrame:\n",
    "    \"\"\"\n",
    "    Function to delete variables that are not needed for the model.\n",
    "\n",
    "    Args:\n",
    "    - df (pd.DataFrame): DataFrame containing columns to delete.\n",
    "\n",
    "    Returns:\n",
    "    - df (pd.DataFrame): DataFrame with the variables deleted.\n",
    "    \"\"\"\n",
    "\n",
    "    cols_to_drop = [\n",
    "        'Name', 'Cabin', 'Num', 'LastName', 'GivenName', 'Group', 'TotalExpenditure'\n",
    "    ]\n",
    "    return df.drop(columns=cols_to_drop, errors='ignore')\n",
    "\n",
    "def encode_categorical(df:pd.DataFrame, categorical:list) -> pd.DataFrame:\n",
    "    \"\"\"\n",
    "    Function to encode categorical variables. Also, \n",
    "    drop redundant variables to avoid perfect multicollinearity.\n",
    "\n",
    "    Args:\n",
    "    - df (pd.DataFrame): DataFrame containing categorical variables.\n",
    "    - categorical (list): List of categorical variable names to encode.\n",
    "    \n",
    "    Returns:\n",
    "    - df (pd.DataFrame): DataFrame with categorical variables encoded.\n",
    "    \"\"\"\n",
    "    \n",
    "    for col in categorical:\n",
    "        if col in df.columns:\n",
    "            # Create dummy variables for each categorical variable\n",
    "            dummies = pd.get_dummies(df[col], prefix=col)\n",
    "            # Concatenate the dummies to the original DataFrame\n",
    "            df = pd.concat([df, dummies], axis=1)\n",
    "\n",
    "    \n",
    "    drop = ['HomePlanet', 'HomePlanet_Earth',\n",
    "        'CryoSleep','CryoSleep_False',\n",
    "        'Destination', 'Destination_Unknown',\n",
    "        'VIP', 'VIP_Unknown',\n",
    "        'Deck', 'Deck_A',\n",
    "        'Side', 'Side_P',\n",
    "        'AgeOld']\n",
    "    \n",
    "    df.drop(columns=drop, inplace=True)\n",
    "    \n",
    "    return df\n",
    "    \n",
    "df_train = create_features(df_train)\n",
    "df_train = delete_Variables(df_train)\n",
    "cat_feats = ['HomePlanet', 'CryoSleep', 'Destination', 'VIP', 'Deck', 'Side']\n",
    "df_train = encode_categorical(df_train, cat_feats)"
   ]
  },
  {
   "cell_type": "markdown",
   "id": "8550af0f",
   "metadata": {
    "papermill": {
     "duration": 0.026916,
     "end_time": "2025-08-06T05:04:48.522588",
     "exception": false,
     "start_time": "2025-08-06T05:04:48.495672",
     "status": "completed"
    },
    "tags": []
   },
   "source": [
    "# Modelling"
   ]
  },
  {
   "cell_type": "markdown",
   "id": "ed355184",
   "metadata": {
    "papermill": {
     "duration": 0.027091,
     "end_time": "2025-08-06T05:04:48.577006",
     "exception": false,
     "start_time": "2025-08-06T05:04:48.549915",
     "status": "completed"
    },
    "tags": []
   },
   "source": [
    "Four models will be considered:\n",
    "1. Logistic regression.\n",
    "2. Decision tree.\n",
    "3. Random forest.\n",
    "4. Gradient boosting decision tree.\n",
    "\n",
    "Let's start by dividing the training set into a new training set that will be used for obtaining the best hyperparameters for each model and a validation set that will be used to compare the performance among the optimal models."
   ]
  },
  {
   "cell_type": "code",
   "execution_count": 34,
   "id": "c3df7fc1",
   "metadata": {
    "execution": {
     "iopub.execute_input": "2025-08-06T05:04:48.632654Z",
     "iopub.status.busy": "2025-08-06T05:04:48.632079Z",
     "iopub.status.idle": "2025-08-06T05:04:48.639911Z",
     "shell.execute_reply": "2025-08-06T05:04:48.639054Z"
    },
    "papermill": {
     "duration": 0.037284,
     "end_time": "2025-08-06T05:04:48.641265",
     "exception": false,
     "start_time": "2025-08-06T05:04:48.603981",
     "status": "completed"
    },
    "tags": []
   },
   "outputs": [],
   "source": [
    "df_train_train, df_train_valid = train_test_split(df_train, test_size=0.2, train_size=0.8, random_state=11)"
   ]
  },
  {
   "cell_type": "markdown",
   "id": "a0b45ffb",
   "metadata": {
    "papermill": {
     "duration": 0.026449,
     "end_time": "2025-08-06T05:04:48.694725",
     "exception": false,
     "start_time": "2025-08-06T05:04:48.668276",
     "status": "completed"
    },
    "tags": []
   },
   "source": [
    "Notice that feature selection will not be necessary as we will consider models with regularisation factors and, also, decision trees implicitly perform feature selection. Finally, for logistic regression, we will consider two sets of features one including the $Age$ feature discretised and the other including the continuous $Age$ (together with the second and third order terms). For decision trees only the latter will be considered. "
   ]
  },
  {
   "cell_type": "code",
   "execution_count": 35,
   "id": "7e22eec2",
   "metadata": {
    "execution": {
     "iopub.execute_input": "2025-08-06T05:04:48.749954Z",
     "iopub.status.busy": "2025-08-06T05:04:48.749657Z",
     "iopub.status.idle": "2025-08-06T05:04:48.758959Z",
     "shell.execute_reply": "2025-08-06T05:04:48.758244Z"
    },
    "papermill": {
     "duration": 0.038961,
     "end_time": "2025-08-06T05:04:48.760494",
     "exception": false,
     "start_time": "2025-08-06T05:04:48.721533",
     "status": "completed"
    },
    "tags": []
   },
   "outputs": [],
   "source": [
    "# extract features and target variable (train set)\n",
    "X_train = df_train_train.drop(columns=['PassengerId', 'Transported', 'Age4', 'Age18', 'Age25', 'Age40'])\n",
    "X_train_logistic =  df_train_train.drop(columns=['PassengerId', 'Transported', 'Age', 'AgeSq', 'AgeCu'])\n",
    "y_train = df_train_train['Transported']\n",
    "\n",
    "# extract features and target variable (validation set)\n",
    "X_valid = df_train_valid.drop(columns=['PassengerId', 'Transported', 'Age4', 'Age18', 'Age25', 'Age40'])\n",
    "X_valid_logistic =  df_train_valid.drop(columns=['PassengerId', 'Transported', 'Age', 'AgeSq', 'AgeCu'])\n",
    "y_valid = df_train_valid['Transported']"
   ]
  },
  {
   "cell_type": "markdown",
   "id": "e2f9189f",
   "metadata": {
    "papermill": {
     "duration": 0.026616,
     "end_time": "2025-08-06T05:04:48.814570",
     "exception": false,
     "start_time": "2025-08-06T05:04:48.787954",
     "status": "completed"
    },
    "tags": []
   },
   "source": [
    "## Hyperparameter optimisation"
   ]
  },
  {
   "cell_type": "markdown",
   "id": "36b98c51",
   "metadata": {
    "papermill": {
     "duration": 0.026884,
     "end_time": "2025-08-06T05:04:48.868369",
     "exception": false,
     "start_time": "2025-08-06T05:04:48.841485",
     "status": "completed"
    },
    "tags": []
   },
   "source": [
    "### Logistic regression"
   ]
  },
  {
   "cell_type": "code",
   "execution_count": 36,
   "id": "6b4e4db6",
   "metadata": {
    "execution": {
     "iopub.execute_input": "2025-08-06T05:04:48.924646Z",
     "iopub.status.busy": "2025-08-06T05:04:48.923772Z",
     "iopub.status.idle": "2025-08-06T05:04:48.930589Z",
     "shell.execute_reply": "2025-08-06T05:04:48.929901Z"
    },
    "papermill": {
     "duration": 0.036329,
     "end_time": "2025-08-06T05:04:48.932017",
     "exception": false,
     "start_time": "2025-08-06T05:04:48.895688",
     "status": "completed"
    },
    "tags": []
   },
   "outputs": [],
   "source": [
    "def hyper_opt_logistic(X_train, y_train):\n",
    "    start = time.time_ns()\n",
    "\n",
    "    pipe = Pipeline([\n",
    "        ('scaler', StandardScaler()),\n",
    "        ('logistic', LogisticRegression(max_iter=20000, solver='saga', random_state=11))\n",
    "    ])\n",
    "\n",
    "    param_grid = [\n",
    "        {'logistic__penalty': [None]},  # C value is arbitrary here\n",
    "        {'logistic__penalty': ['l1', 'l2'], 'logistic__C': [10**(-5), 10**(-2), 1, 5, 10, 20]}\n",
    "    ]\n",
    "\n",
    "    grid_log = GridSearchCV(\n",
    "        estimator=pipe,\n",
    "        param_grid=param_grid,\n",
    "        scoring='accuracy',\n",
    "        n_jobs=-1,\n",
    "        verbose=0,\n",
    "        cv=5,\n",
    "        return_train_score=False\n",
    "    )\n",
    "\n",
    "    grid_log.fit(X_train, y_train)\n",
    "\n",
    "    print(\"Grid search completed in\", (time.time_ns() - start) / (1e9 * 60), \"minutes\")\n",
    "\n",
    "    results = pd.DataFrame({\n",
    "        'params': grid_log.cv_results_['params'],\n",
    "        'mean_test_score': grid_log.cv_results_['mean_test_score']\n",
    "    })\n",
    "    results = results.sort_values(by='mean_test_score', ascending=False)\n",
    "    print(results)\n",
    "\n",
    "    return grid_log"
   ]
  },
  {
   "cell_type": "markdown",
   "id": "c2a26dfb",
   "metadata": {
    "papermill": {
     "duration": 0.026589,
     "end_time": "2025-08-06T05:04:48.986870",
     "exception": false,
     "start_time": "2025-08-06T05:04:48.960281",
     "status": "completed"
    },
    "tags": []
   },
   "source": [
    "Using discretised $Age$ does not lead to better performance. "
   ]
  },
  {
   "cell_type": "code",
   "execution_count": 37,
   "id": "e0ef34c7",
   "metadata": {
    "execution": {
     "iopub.execute_input": "2025-08-06T05:04:49.044257Z",
     "iopub.status.busy": "2025-08-06T05:04:49.043957Z",
     "iopub.status.idle": "2025-08-06T05:12:30.787203Z",
     "shell.execute_reply": "2025-08-06T05:12:30.786363Z"
    },
    "papermill": {
     "duration": 461.801194,
     "end_time": "2025-08-06T05:12:30.815977",
     "exception": false,
     "start_time": "2025-08-06T05:04:49.014783",
     "status": "completed"
    },
    "tags": []
   },
   "outputs": [
    {
     "name": "stdout",
     "output_type": "stream",
     "text": [
      "\n",
      "Hyperparameter optimization for logistic regression using continuous Age: \n",
      "\n",
      "Grid search completed in 3.838473035533333 minutes\n",
      "                                               params  mean_test_score\n",
      "6       {'logistic__C': 1, 'logistic__penalty': 'l2'}         0.791198\n",
      "5       {'logistic__C': 1, 'logistic__penalty': 'l1'}         0.790911\n",
      "7       {'logistic__C': 5, 'logistic__penalty': 'l1'}         0.789473\n",
      "8       {'logistic__C': 5, 'logistic__penalty': 'l2'}         0.789329\n",
      "9      {'logistic__C': 10, 'logistic__penalty': 'l1'}         0.789329\n",
      "10     {'logistic__C': 10, 'logistic__penalty': 'l2'}         0.789185\n",
      "11     {'logistic__C': 20, 'logistic__penalty': 'l1'}         0.789185\n",
      "0                         {'logistic__penalty': None}         0.789042\n",
      "12     {'logistic__C': 20, 'logistic__penalty': 'l2'}         0.788898\n",
      "4    {'logistic__C': 0.01, 'logistic__penalty': 'l2'}         0.784869\n",
      "3    {'logistic__C': 0.01, 'logistic__penalty': 'l1'}         0.776097\n",
      "2   {'logistic__C': 1e-05, 'logistic__penalty': 'l2'}         0.753089\n",
      "1   {'logistic__C': 1e-05, 'logistic__penalty': 'l1'}         0.501437\n",
      "\n",
      "Hyperparameter optimization for logistic regression using discretised Age: \n",
      "\n",
      "Grid search completed in 3.85703510015 minutes\n",
      "                                               params  mean_test_score\n",
      "5       {'logistic__C': 1, 'logistic__penalty': 'l1'}         0.789760\n",
      "7       {'logistic__C': 5, 'logistic__penalty': 'l1'}         0.789185\n",
      "0                         {'logistic__penalty': None}         0.789041\n",
      "8       {'logistic__C': 5, 'logistic__penalty': 'l2'}         0.788897\n",
      "6       {'logistic__C': 1, 'logistic__penalty': 'l2'}         0.788897\n",
      "12     {'logistic__C': 20, 'logistic__penalty': 'l2'}         0.788754\n",
      "10     {'logistic__C': 10, 'logistic__penalty': 'l2'}         0.788610\n",
      "11     {'logistic__C': 20, 'logistic__penalty': 'l1'}         0.788610\n",
      "9      {'logistic__C': 10, 'logistic__penalty': 'l1'}         0.788466\n",
      "4    {'logistic__C': 0.01, 'logistic__penalty': 'l2'}         0.784006\n",
      "3    {'logistic__C': 0.01, 'logistic__penalty': 'l1'}         0.777535\n",
      "2   {'logistic__C': 1e-05, 'logistic__penalty': 'l2'}         0.755246\n",
      "1   {'logistic__C': 1e-05, 'logistic__penalty': 'l1'}         0.501437\n"
     ]
    }
   ],
   "source": [
    "print(\"\\nHyperparameter optimization for logistic regression using continuous Age: \\n\")\n",
    "\n",
    "grid_log = hyper_opt_logistic(X_train, y_train)\n",
    "\n",
    "print(\"\\nHyperparameter optimization for logistic regression using discretised Age: \\n\")\n",
    "\n",
    "grid_log_discret = hyper_opt_logistic(X_train_logistic, y_train)"
   ]
  },
  {
   "cell_type": "markdown",
   "id": "d921325c",
   "metadata": {
    "papermill": {
     "duration": 0.026565,
     "end_time": "2025-08-06T05:12:30.869994",
     "exception": false,
     "start_time": "2025-08-06T05:12:30.843429",
     "status": "completed"
    },
    "tags": []
   },
   "source": [
    "### Decision tree"
   ]
  },
  {
   "cell_type": "code",
   "execution_count": 38,
   "id": "ef80acc7",
   "metadata": {
    "execution": {
     "iopub.execute_input": "2025-08-06T05:12:30.927131Z",
     "iopub.status.busy": "2025-08-06T05:12:30.926840Z",
     "iopub.status.idle": "2025-08-06T05:12:39.648425Z",
     "shell.execute_reply": "2025-08-06T05:12:39.647478Z"
    },
    "papermill": {
     "duration": 8.752132,
     "end_time": "2025-08-06T05:12:39.649916",
     "exception": false,
     "start_time": "2025-08-06T05:12:30.897784",
     "status": "completed"
    },
    "tags": []
   },
   "outputs": [
    {
     "name": "stdout",
     "output_type": "stream",
     "text": [
      "Grid search completed in 0.14518294116666666 minutes\n",
      "                                             params  mean_test_score\n",
      "16    {'ccp_alpha': 0.0005, 'min_samples_split': 2}         0.781708\n",
      "18   {'ccp_alpha': 0.0005, 'min_samples_split': 10}         0.781708\n",
      "17    {'ccp_alpha': 0.0005, 'min_samples_split': 5}         0.781564\n",
      "21  {'ccp_alpha': 0.0005, 'min_samples_split': 100}         0.781276\n",
      "14  {'ccp_alpha': 0.0001, 'min_samples_split': 200}         0.780845\n",
      "..                                              ...              ...\n",
      "67      {'ccp_alpha': 0.5, 'min_samples_split': 20}         0.502588\n",
      "68      {'ccp_alpha': 0.5, 'min_samples_split': 50}         0.502588\n",
      "69     {'ccp_alpha': 0.5, 'min_samples_split': 100}         0.502588\n",
      "70     {'ccp_alpha': 0.5, 'min_samples_split': 200}         0.502588\n",
      "71     {'ccp_alpha': 0.5, 'min_samples_split': 500}         0.502588\n",
      "\n",
      "[72 rows x 2 columns]\n"
     ]
    }
   ],
   "source": [
    "start = time.time_ns()\n",
    "\n",
    "Decision_Tree = DecisionTreeClassifier(random_state=11)\n",
    "\n",
    "param_grid = {\n",
    "    'min_samples_split': [2, 5, 10, 20, 50, 100, 200, 500],\n",
    "    'ccp_alpha': [0, 0.0001, 0.0005, 0.001, 0.005, 0.01, 0.05, 0.1, 0.5]\n",
    "}\n",
    "\n",
    "grid_tree = GridSearchCV(\n",
    "    estimator=Decision_Tree,\n",
    "    param_grid=param_grid,\n",
    "    scoring='accuracy',\n",
    "    n_jobs=-1,\n",
    "    verbose=0,\n",
    "    cv=5,\n",
    "    return_train_score=False\n",
    ")\n",
    "\n",
    "grid_tree.fit(X_train, y_train)\n",
    "\n",
    "print(\"Grid search completed in\", (time.time_ns() - start) / (1e9 * 60), \"minutes\")\n",
    "\n",
    "results = pd.DataFrame({\n",
    "    'params': grid_tree.cv_results_['params'],\n",
    "    'mean_test_score': grid_tree.cv_results_['mean_test_score']\n",
    "})\n",
    "results = results.sort_values(by='mean_test_score', ascending=False)\n",
    "print(results)"
   ]
  },
  {
   "cell_type": "markdown",
   "id": "355223d6",
   "metadata": {
    "papermill": {
     "duration": 0.026607,
     "end_time": "2025-08-06T05:12:39.704954",
     "exception": false,
     "start_time": "2025-08-06T05:12:39.678347",
     "status": "completed"
    },
    "tags": []
   },
   "source": [
    "### Random forests"
   ]
  },
  {
   "cell_type": "markdown",
   "id": "48829b27",
   "metadata": {
    "papermill": {
     "duration": 0.027794,
     "end_time": "2025-08-06T05:12:39.760059",
     "exception": false,
     "start_time": "2025-08-06T05:12:39.732265",
     "status": "completed"
    },
    "tags": []
   },
   "source": [
    "For hyperparameter optimisation, the out-of-bag score will be used instead of relying on 5-fold cross validation."
   ]
  },
  {
   "cell_type": "code",
   "execution_count": 39,
   "id": "201db422",
   "metadata": {
    "execution": {
     "iopub.execute_input": "2025-08-06T05:12:39.817755Z",
     "iopub.status.busy": "2025-08-06T05:12:39.817387Z",
     "iopub.status.idle": "2025-08-06T05:26:22.579951Z",
     "shell.execute_reply": "2025-08-06T05:26:22.579023Z"
    },
    "papermill": {
     "duration": 822.820764,
     "end_time": "2025-08-06T05:26:22.608874",
     "exception": false,
     "start_time": "2025-08-06T05:12:39.788110",
     "status": "completed"
    },
    "tags": []
   },
   "outputs": [
    {
     "name": "stdout",
     "output_type": "stream",
     "text": [
      "\n",
      "Grid search completed in 13.712535893883333 minutes\n",
      "\n",
      "    n_estimators  min_samples_split  oob_score\n",
      "13           100                100   0.802847\n",
      "28          1000                 50   0.800978\n",
      "44         10000                 50   0.800403\n",
      "36          5000                 50   0.800115\n",
      "20           500                 50   0.799827\n",
      "45         10000                100   0.799827\n",
      "5             50                100   0.799396\n",
      "37          5000                100   0.798965\n",
      "21           500                100   0.798821\n",
      "19           500                 20   0.798821\n",
      "29          1000                100   0.798821\n",
      "4             50                 50   0.798102\n",
      "12           100                 50   0.798102\n",
      "35          5000                 20   0.796664\n",
      "27          1000                 20   0.796089\n",
      "43         10000                 20   0.796089\n",
      "11           100                 20   0.795801\n",
      "3             50                 20   0.794651\n",
      "6             50                200   0.794075\n",
      "22           500                200   0.793644\n",
      "30          1000                200   0.793500\n",
      "38          5000                200   0.793356\n",
      "46         10000                200   0.793213\n",
      "14           100                200   0.793213\n",
      "42         10000                 10   0.790768\n",
      "34          5000                 10   0.790336\n",
      "10           100                 10   0.789474\n",
      "26          1000                 10   0.788323\n",
      "18           500                 10   0.787460\n",
      "1             50                  5   0.786741\n",
      "41         10000                  5   0.786598\n",
      "2             50                 10   0.786310\n",
      "33          5000                  5   0.785591\n",
      "40         10000                  2   0.785016\n",
      "17           500                  5   0.785016\n",
      "9            100                  5   0.784872\n",
      "32          5000                  2   0.784153\n",
      "16           500                  2   0.783865\n",
      "25          1000                  5   0.783578\n",
      "7             50                500   0.781565\n",
      "24          1000                  2   0.781565\n",
      "8            100                  2   0.780989\n",
      "15           100                500   0.779695\n",
      "31          1000                500   0.779264\n",
      "47         10000                500   0.779120\n",
      "23           500                500   0.779120\n",
      "39          5000                500   0.778401\n",
      "0             50                  2   0.777826\n"
     ]
    }
   ],
   "source": [
    "start = time.time_ns()\n",
    "\n",
    "results_list = []\n",
    "\n",
    "param_grid = {\n",
    "    'n_estimators': [50, 100, 500, 1000, 5000, 10000],\n",
    "    'min_samples_split': [2, 5, 10, 20, 50, 100, 200, 500],\n",
    "}\n",
    "\n",
    "for n_est in param_grid['n_estimators']:\n",
    "    for min_split in param_grid['min_samples_split']:\n",
    "        Random_Forest = RandomForestClassifier(\n",
    "            n_estimators=n_est,\n",
    "            min_samples_split=min_split,\n",
    "            oob_score=True,\n",
    "            n_jobs=-1,\n",
    "            random_state=11\n",
    "        )\n",
    "        Random_Forest.fit(X_train, y_train)\n",
    "        results_list.append({\n",
    "            'n_estimators': n_est,\n",
    "            'min_samples_split': min_split,\n",
    "            'oob_score': Random_Forest.oob_score_\n",
    "        })\n",
    "\n",
    "print(\"\\nGrid search completed in\", (time.time_ns() - start) / (1e9 * 60), \"minutes\\n\")\n",
    "\n",
    "results_forests = pd.DataFrame(results_list)\n",
    "print(results_forests.sort_values('oob_score', ascending=False))"
   ]
  },
  {
   "cell_type": "markdown",
   "id": "ba04db39",
   "metadata": {
    "papermill": {
     "duration": 0.026868,
     "end_time": "2025-08-06T05:26:22.662664",
     "exception": false,
     "start_time": "2025-08-06T05:26:22.635796",
     "status": "completed"
    },
    "tags": []
   },
   "source": [
    "### Gradient boosting decision tree"
   ]
  },
  {
   "cell_type": "markdown",
   "id": "5b9edd15",
   "metadata": {
    "papermill": {
     "duration": 0.02777,
     "end_time": "2025-08-06T05:26:22.718045",
     "exception": false,
     "start_time": "2025-08-06T05:26:22.690275",
     "status": "completed"
    },
    "tags": []
   },
   "source": [
    "A early-stopping criterium is applied. To this end, 10% of the training observations are used for validation."
   ]
  },
  {
   "cell_type": "code",
   "execution_count": 40,
   "id": "48d634b2",
   "metadata": {
    "execution": {
     "iopub.execute_input": "2025-08-06T05:26:22.774282Z",
     "iopub.status.busy": "2025-08-06T05:26:22.773412Z",
     "iopub.status.idle": "2025-08-06T05:30:01.686372Z",
     "shell.execute_reply": "2025-08-06T05:30:01.685424Z"
    },
    "papermill": {
     "duration": 218.970317,
     "end_time": "2025-08-06T05:30:01.715432",
     "exception": false,
     "start_time": "2025-08-06T05:26:22.745115",
     "status": "completed"
    },
    "tags": []
   },
   "outputs": [
    {
     "name": "stdout",
     "output_type": "stream",
     "text": [
      "Grid search completed in 3.6483257379 minutes\n",
      "                                               params  mean_test_score\n",
      "5   {'learning_rate': 0.01, 'max_depth': 5, 'n_est...         0.802847\n",
      "23  {'learning_rate': 0.1, 'max_depth': 5, 'n_esti...         0.801985\n",
      "22  {'learning_rate': 0.1, 'max_depth': 5, 'n_esti...         0.801985\n",
      "21  {'learning_rate': 0.1, 'max_depth': 5, 'n_esti...         0.801985\n",
      "28  {'learning_rate': 0.2, 'max_depth': 3, 'n_esti...         0.801984\n",
      "27  {'learning_rate': 0.2, 'max_depth': 3, 'n_esti...         0.801984\n",
      "29  {'learning_rate': 0.2, 'max_depth': 3, 'n_esti...         0.801984\n",
      "13  {'learning_rate': 0.05, 'max_depth': 5, 'n_est...         0.801409\n",
      "14  {'learning_rate': 0.05, 'max_depth': 5, 'n_est...         0.801409\n",
      "11  {'learning_rate': 0.05, 'max_depth': 3, 'n_est...         0.800977\n",
      "12  {'learning_rate': 0.05, 'max_depth': 5, 'n_est...         0.800834\n",
      "19  {'learning_rate': 0.1, 'max_depth': 3, 'n_esti...         0.800833\n",
      "20  {'learning_rate': 0.1, 'max_depth': 3, 'n_esti...         0.800833\n",
      "10  {'learning_rate': 0.05, 'max_depth': 3, 'n_est...         0.800257\n",
      "18  {'learning_rate': 0.1, 'max_depth': 3, 'n_esti...         0.799682\n",
      "4   {'learning_rate': 0.01, 'max_depth': 5, 'n_est...         0.797670\n",
      "32  {'learning_rate': 0.2, 'max_depth': 5, 'n_esti...         0.796952\n",
      "31  {'learning_rate': 0.2, 'max_depth': 5, 'n_esti...         0.796952\n",
      "30  {'learning_rate': 0.2, 'max_depth': 5, 'n_esti...         0.796952\n",
      "2   {'learning_rate': 0.01, 'max_depth': 3, 'n_est...         0.796950\n",
      "9   {'learning_rate': 0.05, 'max_depth': 3, 'n_est...         0.796662\n",
      "3   {'learning_rate': 0.01, 'max_depth': 5, 'n_est...         0.794217\n",
      "15  {'learning_rate': 0.05, 'max_depth': 10, 'n_es...         0.785735\n",
      "16  {'learning_rate': 0.05, 'max_depth': 10, 'n_es...         0.785735\n",
      "17  {'learning_rate': 0.05, 'max_depth': 10, 'n_es...         0.785735\n",
      "8   {'learning_rate': 0.01, 'max_depth': 10, 'n_es...         0.784441\n",
      "1   {'learning_rate': 0.01, 'max_depth': 3, 'n_est...         0.784294\n",
      "33  {'learning_rate': 0.2, 'max_depth': 10, 'n_est...         0.782572\n",
      "34  {'learning_rate': 0.2, 'max_depth': 10, 'n_est...         0.782572\n",
      "35  {'learning_rate': 0.2, 'max_depth': 10, 'n_est...         0.782572\n",
      "26  {'learning_rate': 0.1, 'max_depth': 10, 'n_est...         0.782140\n",
      "25  {'learning_rate': 0.1, 'max_depth': 10, 'n_est...         0.782140\n",
      "24  {'learning_rate': 0.1, 'max_depth': 10, 'n_est...         0.782140\n",
      "7   {'learning_rate': 0.01, 'max_depth': 10, 'n_es...         0.781709\n",
      "6   {'learning_rate': 0.01, 'max_depth': 10, 'n_es...         0.778401\n",
      "0   {'learning_rate': 0.01, 'max_depth': 3, 'n_est...         0.773795\n"
     ]
    }
   ],
   "source": [
    "start = time.time_ns()\n",
    "\n",
    "GB_Decision_Tree = GradientBoostingClassifier(n_iter_no_change=10, validation_fraction=0.1, random_state=11)\n",
    "\n",
    "param_grid = {\n",
    "    'n_estimators': [100, 200, 500],\n",
    "    'max_depth': [3, 5, 10],\n",
    "    'learning_rate': [0.01, 0.05, 0.1, 0.2],\n",
    "}\n",
    "\n",
    "grid_gb = GridSearchCV(\n",
    "    estimator=GB_Decision_Tree,\n",
    "    param_grid=param_grid,\n",
    "    scoring='accuracy',\n",
    "    n_jobs=-1,\n",
    "    verbose=0,\n",
    "    cv=5,\n",
    "    return_train_score=False\n",
    ")\n",
    "\n",
    "grid_gb.fit(X_train, y_train)\n",
    "\n",
    "print(\"Grid search completed in\", (time.time_ns() - start) / (1e9 * 60), \"minutes\")\n",
    "\n",
    "results = pd.DataFrame({\n",
    "    'params': grid_gb.cv_results_['params'],\n",
    "    'mean_test_score': grid_gb.cv_results_['mean_test_score']\n",
    "})\n",
    "results = results.sort_values(by='mean_test_score', ascending=False)\n",
    "print(results)"
   ]
  },
  {
   "cell_type": "markdown",
   "id": "8de2c1ee",
   "metadata": {
    "papermill": {
     "duration": 0.027807,
     "end_time": "2025-08-06T05:30:01.770739",
     "exception": false,
     "start_time": "2025-08-06T05:30:01.742932",
     "status": "completed"
    },
    "tags": []
   },
   "source": [
    "## Model selection"
   ]
  },
  {
   "cell_type": "markdown",
   "id": "f975b158",
   "metadata": {
    "papermill": {
     "duration": 0.027666,
     "end_time": "2025-08-06T05:30:01.826104",
     "exception": false,
     "start_time": "2025-08-06T05:30:01.798438",
     "status": "completed"
    },
    "tags": []
   },
   "source": [
    "The model with the best performance on the validation set is the gradient boosted decision tree."
   ]
  },
  {
   "cell_type": "code",
   "execution_count": 41,
   "id": "5da19476",
   "metadata": {
    "execution": {
     "iopub.execute_input": "2025-08-06T05:30:01.882488Z",
     "iopub.status.busy": "2025-08-06T05:30:01.882098Z",
     "iopub.status.idle": "2025-08-06T05:30:38.995698Z",
     "shell.execute_reply": "2025-08-06T05:30:38.994784Z"
    },
    "papermill": {
     "duration": 37.171299,
     "end_time": "2025-08-06T05:30:39.024855",
     "exception": false,
     "start_time": "2025-08-06T05:30:01.853556",
     "status": "completed"
    },
    "tags": []
   },
   "outputs": [
    {
     "name": "stdout",
     "output_type": "stream",
     "text": [
      "\n",
      "Logistic Regression score: 0.7837837837837838\n",
      "Decision Tree score: 0.7918343875790684\n",
      "Random Forest score: 0.8004600345025877\n",
      "Gradient Boosting Decision Tree score: 0.8113858539390454\n"
     ]
    }
   ],
   "source": [
    "# define models with optimal hyperparameters\n",
    "params_logistic = {'max_iter':20000, 'solver':'saga'}\n",
    "params_logistic.update({key.replace('logistic__', ''): value for key, value in grid_log.best_params_.items()})\n",
    "logistic_regression = LogisticRegression(**params_logistic)\n",
    "\n",
    "Decision_Tree = DecisionTreeClassifier(**grid_tree.best_params_)\n",
    "\n",
    "Random_Forest = RandomForestClassifier(n_estimators = 100, min_samples_split = 50)\n",
    "\n",
    "params_gb = {'n_iter_no_change':10, 'validation_fraction':0.1}\n",
    "params_gb.update(grid_gb.best_params_)\n",
    "GB_Decision_Tree = GradientBoostingClassifier(**params_gb) \n",
    "\n",
    "# fit models\n",
    "logistic_regression.fit(X_train, y_train)\n",
    "Decision_Tree.fit(X_train, y_train)\n",
    "Random_Forest.fit(X_train, y_train)\n",
    "GB_Decision_Tree.fit(X_train, y_train)\n",
    "\n",
    "# evaluate models performance in validation set\n",
    "logistic_regression_score = logistic_regression.score(X_valid, y_valid)\n",
    "Decision_Tree_score = Decision_Tree.score(X_valid, y_valid)\n",
    "Random_Forest_score = Random_Forest.score(X_valid, y_valid)\n",
    "GB_Decision_Tree_score = GB_Decision_Tree.score(X_valid, y_valid)\n",
    "\n",
    "# print results\n",
    "print(\"\\nLogistic Regression score:\", logistic_regression_score)\n",
    "print(\"Decision Tree score:\", Decision_Tree_score)\n",
    "print(\"Random Forest score:\", Random_Forest_score)\n",
    "print(\"Gradient Boosting Decision Tree score:\", GB_Decision_Tree_score)"
   ]
  },
  {
   "cell_type": "markdown",
   "id": "b2e815e6",
   "metadata": {
    "papermill": {
     "duration": 0.027135,
     "end_time": "2025-08-06T05:30:39.079600",
     "exception": false,
     "start_time": "2025-08-06T05:30:39.052465",
     "status": "completed"
    },
    "tags": []
   },
   "source": [
    "# Submission"
   ]
  },
  {
   "cell_type": "markdown",
   "id": "ca26aa52",
   "metadata": {
    "papermill": {
     "duration": 0.027461,
     "end_time": "2025-08-06T05:30:39.134103",
     "exception": false,
     "start_time": "2025-08-06T05:30:39.106642",
     "status": "completed"
    },
    "tags": []
   },
   "source": [
    "Let's start by applying, on the test data, the treatment to solve missingness:"
   ]
  },
  {
   "cell_type": "code",
   "execution_count": 42,
   "id": "7a370ade",
   "metadata": {
    "execution": {
     "iopub.execute_input": "2025-08-06T05:30:39.190536Z",
     "iopub.status.busy": "2025-08-06T05:30:39.190169Z",
     "iopub.status.idle": "2025-08-06T05:30:39.842433Z",
     "shell.execute_reply": "2025-08-06T05:30:39.841667Z"
    },
    "papermill": {
     "duration": 0.682131,
     "end_time": "2025-08-06T05:30:39.844019",
     "exception": false,
     "start_time": "2025-08-06T05:30:39.161888",
     "status": "completed"
    },
    "tags": []
   },
   "outputs": [],
   "source": [
    "df_test['MultipleMissing'] = (df_test.isna().sum(axis=1) > 1)\n",
    "df_test = solve_missingness_homeplanet(df_test)\n",
    "df_test = solve_missingness_vip(df_test)\n",
    "df_test = solve_missingness_CryoSleep(df_test)\n",
    "df_test = solve_missingness_Destination(df_test)\n",
    "df_test = solve_missingness_Side(df_test)\n",
    "df_test = solve_missingness_Age(df_test)\n",
    "df_test = solve_missingness_Deck(df_test)\n",
    "df_test = solve_missingness_expenditure_variables(df_test)"
   ]
  },
  {
   "cell_type": "markdown",
   "id": "ee448f5c",
   "metadata": {
    "papermill": {
     "duration": 0.027679,
     "end_time": "2025-08-06T05:30:39.899940",
     "exception": false,
     "start_time": "2025-08-06T05:30:39.872261",
     "status": "completed"
    },
    "tags": []
   },
   "source": [
    "Then, apply the feature engineering:"
   ]
  },
  {
   "cell_type": "code",
   "execution_count": 43,
   "id": "b3e0541d",
   "metadata": {
    "execution": {
     "iopub.execute_input": "2025-08-06T05:30:39.956891Z",
     "iopub.status.busy": "2025-08-06T05:30:39.956602Z",
     "iopub.status.idle": "2025-08-06T05:30:40.006270Z",
     "shell.execute_reply": "2025-08-06T05:30:40.005495Z"
    },
    "papermill": {
     "duration": 0.080194,
     "end_time": "2025-08-06T05:30:40.007932",
     "exception": false,
     "start_time": "2025-08-06T05:30:39.927738",
     "status": "completed"
    },
    "tags": []
   },
   "outputs": [],
   "source": [
    "df_test = create_features(df_test)\n",
    "df_test = delete_Variables(df_test)\n",
    "df_test = encode_categorical(df_test, cat_feats)"
   ]
  },
  {
   "cell_type": "markdown",
   "id": "cfbd7366",
   "metadata": {
    "papermill": {
     "duration": 0.028345,
     "end_time": "2025-08-06T05:30:40.065139",
     "exception": false,
     "start_time": "2025-08-06T05:30:40.036794",
     "status": "completed"
    },
    "tags": []
   },
   "source": [
    "Finally, the best performing model (gradient boosted decision tree) is trained using the entire training set and the variable $Transported$ is predicted in the test data."
   ]
  },
  {
   "cell_type": "code",
   "execution_count": 44,
   "id": "0366bc42",
   "metadata": {
    "execution": {
     "iopub.execute_input": "2025-08-06T05:30:40.122888Z",
     "iopub.status.busy": "2025-08-06T05:30:40.122606Z",
     "iopub.status.idle": "2025-08-06T05:30:58.360153Z",
     "shell.execute_reply": "2025-08-06T05:30:58.359385Z"
    },
    "papermill": {
     "duration": 18.268555,
     "end_time": "2025-08-06T05:30:58.361777",
     "exception": false,
     "start_time": "2025-08-06T05:30:40.093222",
     "status": "completed"
    },
    "tags": []
   },
   "outputs": [],
   "source": [
    "# obtain X, y from (entire) training set\n",
    "X_train = df_train.drop(columns=['PassengerId', 'Transported', 'Age4', 'Age18', 'Age25', 'Age40'])\n",
    "y_train = df_train['Transported']\n",
    "\n",
    "# obtain X from test set\n",
    "X_test = df_test.drop(columns=['PassengerId', 'Age4', 'Age18', 'Age25', 'Age40'])\n",
    "\n",
    "# fit GB decision tree\n",
    "GB_Decision_Tree.fit(X_train, y_train)\n",
    "\n",
    "# predict dependent variable on test set\n",
    "prediction = GB_Decision_Tree.predict(X_test)"
   ]
  },
  {
   "cell_type": "code",
   "execution_count": 45,
   "id": "336d92bb",
   "metadata": {
    "execution": {
     "iopub.execute_input": "2025-08-06T05:30:58.418751Z",
     "iopub.status.busy": "2025-08-06T05:30:58.418364Z",
     "iopub.status.idle": "2025-08-06T05:30:58.433521Z",
     "shell.execute_reply": "2025-08-06T05:30:58.432741Z"
    },
    "papermill": {
     "duration": 0.045527,
     "end_time": "2025-08-06T05:30:58.435042",
     "exception": false,
     "start_time": "2025-08-06T05:30:58.389515",
     "status": "completed"
    },
    "tags": []
   },
   "outputs": [],
   "source": [
    "submission = pd.DataFrame({'PassengerId': df_test['PassengerId'], 'Transported': prediction})\n",
    "\n",
    "submission.to_csv(\"submission.csv\", index = False)"
   ]
  }
 ],
 "metadata": {
  "colab": {
   "provenance": []
  },
  "kaggle": {
   "accelerator": "none",
   "dataSources": [
    {
     "databundleVersionId": 3220602,
     "sourceId": 34377,
     "sourceType": "competition"
    }
   ],
   "dockerImageVersionId": 31089,
   "isGpuEnabled": false,
   "isInternetEnabled": true,
   "language": "python",
   "sourceType": "notebook"
  },
  "kernelspec": {
   "display_name": "Python 3",
   "language": "python",
   "name": "python3"
  },
  "language_info": {
   "codemirror_mode": {
    "name": "ipython",
    "version": 3
   },
   "file_extension": ".py",
   "mimetype": "text/x-python",
   "name": "python",
   "nbconvert_exporter": "python",
   "pygments_lexer": "ipython3",
   "version": "3.11.13"
  },
  "papermill": {
   "default_parameters": {},
   "duration": 1592.261106,
   "end_time": "2025-08-06T05:31:01.085313",
   "environment_variables": {},
   "exception": null,
   "input_path": "__notebook__.ipynb",
   "output_path": "__notebook__.ipynb",
   "parameters": {},
   "start_time": "2025-08-06T05:04:28.824207",
   "version": "2.6.0"
  }
 },
 "nbformat": 4,
 "nbformat_minor": 5
}
